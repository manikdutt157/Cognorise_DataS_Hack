{
 "cells": [
  {
   "cell_type": "code",
   "execution_count": 1,
   "metadata": {},
   "outputs": [],
   "source": [
    "# Importing relevant libraries\n",
    "\n",
    "# Data wrangling\n",
    "import numpy as np\n",
    "import pandas as pd\n",
    "from tqdm import tqdm\n",
    "\n",
    "# Data Visualization\n",
    "import matplotlib.pyplot as plt\n",
    "import plotly.express as px\n",
    "import plotly.graph_objects as go\n",
    "from plotly.subplots import make_subplots\n",
    "\n",
    "\n",
    "# Data pre-processing\n",
    "from sklearn.preprocessing import StandardScaler\n",
    "\n",
    "# Data splitting\n",
    "from sklearn.model_selection import train_test_split\n",
    "\n",
    "# Machine learning Models\n",
    "from sklearn.decomposition import PCA\n",
    "from sklearn.model_selection import GridSearchCV\n",
    "from sklearn.linear_model import LogisticRegression\n",
    "from sklearn.tree import DecisionTreeClassifier\n",
    "from sklearn.svm import SVC\n",
    "from sklearn.ensemble import RandomForestClassifier\n",
    "from sklearn.neighbors import KNeighborsClassifier\n",
    "\n",
    "\n",
    "# Evaluation metrics\n",
    "from sklearn.metrics import accuracy_score\n",
    "from sklearn.metrics import confusion_matrix, ConfusionMatrixDisplay\n",
    "from sklearn.metrics import roc_curve, auc\n",
    "\n",
    "\n",
    "#Installing dependencies\n",
    "# !pip install -U kaleido"
   ]
  },
  {
   "cell_type": "code",
   "execution_count": 2,
   "metadata": {},
   "outputs": [
    {
     "data": {
      "text/html": [
       "<div>\n",
       "<style scoped>\n",
       "    .dataframe tbody tr th:only-of-type {\n",
       "        vertical-align: middle;\n",
       "    }\n",
       "\n",
       "    .dataframe tbody tr th {\n",
       "        vertical-align: top;\n",
       "    }\n",
       "\n",
       "    .dataframe thead th {\n",
       "        text-align: right;\n",
       "    }\n",
       "</style>\n",
       "<table border=\"1\" class=\"dataframe\">\n",
       "  <thead>\n",
       "    <tr style=\"text-align: right;\">\n",
       "      <th></th>\n",
       "      <th>sno</th>\n",
       "      <th>acc_info</th>\n",
       "      <th>duration_month</th>\n",
       "      <th>credit_history</th>\n",
       "      <th>purpose</th>\n",
       "      <th>savings_acc</th>\n",
       "      <th>employment_st</th>\n",
       "      <th>poi</th>\n",
       "      <th>personal_status</th>\n",
       "      <th>gurantors</th>\n",
       "      <th>...</th>\n",
       "      <th>property_type</th>\n",
       "      <th>age</th>\n",
       "      <th>installment_type</th>\n",
       "      <th>housing_type</th>\n",
       "      <th>credits_no</th>\n",
       "      <th>job_type</th>\n",
       "      <th>liables</th>\n",
       "      <th>telephone</th>\n",
       "      <th>foreigner</th>\n",
       "      <th>Group_no</th>\n",
       "    </tr>\n",
       "  </thead>\n",
       "  <tbody>\n",
       "    <tr>\n",
       "      <th>0</th>\n",
       "      <td>1</td>\n",
       "      <td>A11</td>\n",
       "      <td>6</td>\n",
       "      <td>A34</td>\n",
       "      <td>A43</td>\n",
       "      <td>A65</td>\n",
       "      <td>A75</td>\n",
       "      <td>4.0</td>\n",
       "      <td>A93</td>\n",
       "      <td>A101</td>\n",
       "      <td>...</td>\n",
       "      <td>A121</td>\n",
       "      <td>67.0</td>\n",
       "      <td>A143</td>\n",
       "      <td>A152</td>\n",
       "      <td>2</td>\n",
       "      <td>A173</td>\n",
       "      <td>1</td>\n",
       "      <td>A192</td>\n",
       "      <td>A201</td>\n",
       "      <td>3</td>\n",
       "    </tr>\n",
       "    <tr>\n",
       "      <th>1</th>\n",
       "      <td>2</td>\n",
       "      <td>A12</td>\n",
       "      <td>48</td>\n",
       "      <td>A32</td>\n",
       "      <td>A43</td>\n",
       "      <td>A61</td>\n",
       "      <td>A73</td>\n",
       "      <td>2.0</td>\n",
       "      <td>A92</td>\n",
       "      <td>A101</td>\n",
       "      <td>...</td>\n",
       "      <td>A121</td>\n",
       "      <td>22.0</td>\n",
       "      <td>A143</td>\n",
       "      <td>A152</td>\n",
       "      <td>1</td>\n",
       "      <td>A173</td>\n",
       "      <td>1</td>\n",
       "      <td>A191</td>\n",
       "      <td>A201</td>\n",
       "      <td>1</td>\n",
       "    </tr>\n",
       "    <tr>\n",
       "      <th>2</th>\n",
       "      <td>3</td>\n",
       "      <td>A14</td>\n",
       "      <td>12</td>\n",
       "      <td>A34</td>\n",
       "      <td>A46</td>\n",
       "      <td>A61</td>\n",
       "      <td>A74</td>\n",
       "      <td>2.0</td>\n",
       "      <td>A93</td>\n",
       "      <td>A101</td>\n",
       "      <td>...</td>\n",
       "      <td>A121</td>\n",
       "      <td>49.0</td>\n",
       "      <td>A143</td>\n",
       "      <td>A152</td>\n",
       "      <td>1</td>\n",
       "      <td>A172</td>\n",
       "      <td>2</td>\n",
       "      <td>A191</td>\n",
       "      <td>A201</td>\n",
       "      <td>2</td>\n",
       "    </tr>\n",
       "    <tr>\n",
       "      <th>3</th>\n",
       "      <td>4</td>\n",
       "      <td>A11</td>\n",
       "      <td>42</td>\n",
       "      <td>A32</td>\n",
       "      <td>A42</td>\n",
       "      <td>A61</td>\n",
       "      <td>A74</td>\n",
       "      <td>2.0</td>\n",
       "      <td>A93</td>\n",
       "      <td>A103</td>\n",
       "      <td>...</td>\n",
       "      <td>A122</td>\n",
       "      <td>45.0</td>\n",
       "      <td>A143</td>\n",
       "      <td>A153</td>\n",
       "      <td>1</td>\n",
       "      <td>A173</td>\n",
       "      <td>2</td>\n",
       "      <td>A191</td>\n",
       "      <td>A201</td>\n",
       "      <td>1</td>\n",
       "    </tr>\n",
       "    <tr>\n",
       "      <th>4</th>\n",
       "      <td>5</td>\n",
       "      <td>A11</td>\n",
       "      <td>24</td>\n",
       "      <td>A33</td>\n",
       "      <td>A40</td>\n",
       "      <td>A61</td>\n",
       "      <td>A73</td>\n",
       "      <td>3.0</td>\n",
       "      <td>A93</td>\n",
       "      <td>A101</td>\n",
       "      <td>...</td>\n",
       "      <td>A124</td>\n",
       "      <td>53.0</td>\n",
       "      <td>A143</td>\n",
       "      <td>A153</td>\n",
       "      <td>2</td>\n",
       "      <td>A173</td>\n",
       "      <td>2</td>\n",
       "      <td>A191</td>\n",
       "      <td>A201</td>\n",
       "      <td>1</td>\n",
       "    </tr>\n",
       "    <tr>\n",
       "      <th>...</th>\n",
       "      <td>...</td>\n",
       "      <td>...</td>\n",
       "      <td>...</td>\n",
       "      <td>...</td>\n",
       "      <td>...</td>\n",
       "      <td>...</td>\n",
       "      <td>...</td>\n",
       "      <td>...</td>\n",
       "      <td>...</td>\n",
       "      <td>...</td>\n",
       "      <td>...</td>\n",
       "      <td>...</td>\n",
       "      <td>...</td>\n",
       "      <td>...</td>\n",
       "      <td>...</td>\n",
       "      <td>...</td>\n",
       "      <td>...</td>\n",
       "      <td>...</td>\n",
       "      <td>...</td>\n",
       "      <td>...</td>\n",
       "      <td>...</td>\n",
       "    </tr>\n",
       "    <tr>\n",
       "      <th>795</th>\n",
       "      <td>796</td>\n",
       "      <td>A14</td>\n",
       "      <td>9</td>\n",
       "      <td>A32</td>\n",
       "      <td>A42</td>\n",
       "      <td>A62</td>\n",
       "      <td>A72</td>\n",
       "      <td>2.0</td>\n",
       "      <td>A92</td>\n",
       "      <td>A101</td>\n",
       "      <td>...</td>\n",
       "      <td>A122</td>\n",
       "      <td>22.0</td>\n",
       "      <td>A143</td>\n",
       "      <td>A151</td>\n",
       "      <td>1</td>\n",
       "      <td>A173</td>\n",
       "      <td>1</td>\n",
       "      <td>A191</td>\n",
       "      <td>A201</td>\n",
       "      <td>2</td>\n",
       "    </tr>\n",
       "    <tr>\n",
       "      <th>796</th>\n",
       "      <td>797</td>\n",
       "      <td>A11</td>\n",
       "      <td>18</td>\n",
       "      <td>A32</td>\n",
       "      <td>A41</td>\n",
       "      <td>A65</td>\n",
       "      <td>A75</td>\n",
       "      <td>1.0</td>\n",
       "      <td>A93</td>\n",
       "      <td>A101</td>\n",
       "      <td>...</td>\n",
       "      <td>A122</td>\n",
       "      <td>51.0</td>\n",
       "      <td>A143</td>\n",
       "      <td>A153</td>\n",
       "      <td>1</td>\n",
       "      <td>A173</td>\n",
       "      <td>2</td>\n",
       "      <td>A192</td>\n",
       "      <td>A201</td>\n",
       "      <td>1</td>\n",
       "    </tr>\n",
       "    <tr>\n",
       "      <th>797</th>\n",
       "      <td>798</td>\n",
       "      <td>A14</td>\n",
       "      <td>12</td>\n",
       "      <td>A34</td>\n",
       "      <td>A42</td>\n",
       "      <td>A61</td>\n",
       "      <td>A72</td>\n",
       "      <td>2.0</td>\n",
       "      <td>A92</td>\n",
       "      <td>A101</td>\n",
       "      <td>...</td>\n",
       "      <td>A122</td>\n",
       "      <td>22.0</td>\n",
       "      <td>A143</td>\n",
       "      <td>A151</td>\n",
       "      <td>2</td>\n",
       "      <td>A172</td>\n",
       "      <td>1</td>\n",
       "      <td>A191</td>\n",
       "      <td>A201</td>\n",
       "      <td>3</td>\n",
       "    </tr>\n",
       "    <tr>\n",
       "      <th>798</th>\n",
       "      <td>799</td>\n",
       "      <td>A14</td>\n",
       "      <td>24</td>\n",
       "      <td>A33</td>\n",
       "      <td>A40</td>\n",
       "      <td>A65</td>\n",
       "      <td>A75</td>\n",
       "      <td>4.0</td>\n",
       "      <td>A94</td>\n",
       "      <td>A101</td>\n",
       "      <td>...</td>\n",
       "      <td>A123</td>\n",
       "      <td>54.0</td>\n",
       "      <td>A143</td>\n",
       "      <td>A152</td>\n",
       "      <td>2</td>\n",
       "      <td>A173</td>\n",
       "      <td>1</td>\n",
       "      <td>A192</td>\n",
       "      <td>A201</td>\n",
       "      <td>3</td>\n",
       "    </tr>\n",
       "    <tr>\n",
       "      <th>799</th>\n",
       "      <td>800</td>\n",
       "      <td>A12</td>\n",
       "      <td>9</td>\n",
       "      <td>A32</td>\n",
       "      <td>A40</td>\n",
       "      <td>A65</td>\n",
       "      <td>A72</td>\n",
       "      <td>4.0</td>\n",
       "      <td>A93</td>\n",
       "      <td>A101</td>\n",
       "      <td>...</td>\n",
       "      <td>A121</td>\n",
       "      <td>35.0</td>\n",
       "      <td>A143</td>\n",
       "      <td>A152</td>\n",
       "      <td>1</td>\n",
       "      <td>A171</td>\n",
       "      <td>1</td>\n",
       "      <td>A191</td>\n",
       "      <td>A201</td>\n",
       "      <td>2</td>\n",
       "    </tr>\n",
       "  </tbody>\n",
       "</table>\n",
       "<p>800 rows × 21 columns</p>\n",
       "</div>"
      ],
      "text/plain": [
       "     sno acc_info  duration_month credit_history purpose savings_acc  \\\n",
       "0      1      A11               6            A34     A43         A65   \n",
       "1      2      A12              48            A32     A43         A61   \n",
       "2      3      A14              12            A34     A46         A61   \n",
       "3      4      A11              42            A32     A42         A61   \n",
       "4      5      A11              24            A33     A40         A61   \n",
       "..   ...      ...             ...            ...     ...         ...   \n",
       "795  796      A14               9            A32     A42         A62   \n",
       "796  797      A11              18            A32     A41         A65   \n",
       "797  798      A14              12            A34     A42         A61   \n",
       "798  799      A14              24            A33     A40         A65   \n",
       "799  800      A12               9            A32     A40         A65   \n",
       "\n",
       "    employment_st  poi personal_status gurantors  ...  property_type   age  \\\n",
       "0             A75  4.0             A93      A101  ...           A121  67.0   \n",
       "1             A73  2.0             A92      A101  ...           A121  22.0   \n",
       "2             A74  2.0             A93      A101  ...           A121  49.0   \n",
       "3             A74  2.0             A93      A103  ...           A122  45.0   \n",
       "4             A73  3.0             A93      A101  ...           A124  53.0   \n",
       "..            ...  ...             ...       ...  ...            ...   ...   \n",
       "795           A72  2.0             A92      A101  ...           A122  22.0   \n",
       "796           A75  1.0             A93      A101  ...           A122  51.0   \n",
       "797           A72  2.0             A92      A101  ...           A122  22.0   \n",
       "798           A75  4.0             A94      A101  ...           A123  54.0   \n",
       "799           A72  4.0             A93      A101  ...           A121  35.0   \n",
       "\n",
       "     installment_type housing_type credits_no  job_type liables  telephone  \\\n",
       "0                A143         A152          2      A173       1       A192   \n",
       "1                A143         A152          1      A173       1       A191   \n",
       "2                A143         A152          1      A172       2       A191   \n",
       "3                A143         A153          1      A173       2       A191   \n",
       "4                A143         A153          2      A173       2       A191   \n",
       "..                ...          ...        ...       ...     ...        ...   \n",
       "795              A143         A151          1      A173       1       A191   \n",
       "796              A143         A153          1      A173       2       A192   \n",
       "797              A143         A151          2      A172       1       A191   \n",
       "798              A143         A152          2      A173       1       A192   \n",
       "799              A143         A152          1      A171       1       A191   \n",
       "\n",
       "    foreigner Group_no  \n",
       "0        A201        3  \n",
       "1        A201        1  \n",
       "2        A201        2  \n",
       "3        A201        1  \n",
       "4        A201        1  \n",
       "..        ...      ...  \n",
       "795      A201        2  \n",
       "796      A201        1  \n",
       "797      A201        3  \n",
       "798      A201        3  \n",
       "799      A201        2  \n",
       "\n",
       "[800 rows x 21 columns]"
      ]
     },
     "execution_count": 2,
     "metadata": {},
     "output_type": "execute_result"
    }
   ],
   "source": [
    "tra=pd.read_csv(\"C&T train dataset.csv\")\n",
    "tra"
   ]
  },
  {
   "cell_type": "code",
   "execution_count": 3,
   "metadata": {},
   "outputs": [
    {
     "data": {
      "text/plain": [
       "(800, 21)"
      ]
     },
     "execution_count": 3,
     "metadata": {},
     "output_type": "execute_result"
    }
   ],
   "source": [
    "# shape of data\n",
    "tra.shape"
   ]
  },
  {
   "cell_type": "code",
   "execution_count": 4,
   "metadata": {},
   "outputs": [
    {
     "data": {
      "text/plain": [
       "<bound method DataFrame.info of      sno acc_info  duration_month credit_history purpose savings_acc  \\\n",
       "0      1      A11               6            A34     A43         A65   \n",
       "1      2      A12              48            A32     A43         A61   \n",
       "2      3      A14              12            A34     A46         A61   \n",
       "3      4      A11              42            A32     A42         A61   \n",
       "4      5      A11              24            A33     A40         A61   \n",
       "..   ...      ...             ...            ...     ...         ...   \n",
       "795  796      A14               9            A32     A42         A62   \n",
       "796  797      A11              18            A32     A41         A65   \n",
       "797  798      A14              12            A34     A42         A61   \n",
       "798  799      A14              24            A33     A40         A65   \n",
       "799  800      A12               9            A32     A40         A65   \n",
       "\n",
       "    employment_st  poi personal_status gurantors  ...  property_type   age  \\\n",
       "0             A75  4.0             A93      A101  ...           A121  67.0   \n",
       "1             A73  2.0             A92      A101  ...           A121  22.0   \n",
       "2             A74  2.0             A93      A101  ...           A121  49.0   \n",
       "3             A74  2.0             A93      A103  ...           A122  45.0   \n",
       "4             A73  3.0             A93      A101  ...           A124  53.0   \n",
       "..            ...  ...             ...       ...  ...            ...   ...   \n",
       "795           A72  2.0             A92      A101  ...           A122  22.0   \n",
       "796           A75  1.0             A93      A101  ...           A122  51.0   \n",
       "797           A72  2.0             A92      A101  ...           A122  22.0   \n",
       "798           A75  4.0             A94      A101  ...           A123  54.0   \n",
       "799           A72  4.0             A93      A101  ...           A121  35.0   \n",
       "\n",
       "     installment_type housing_type credits_no  job_type liables  telephone  \\\n",
       "0                A143         A152          2      A173       1       A192   \n",
       "1                A143         A152          1      A173       1       A191   \n",
       "2                A143         A152          1      A172       2       A191   \n",
       "3                A143         A153          1      A173       2       A191   \n",
       "4                A143         A153          2      A173       2       A191   \n",
       "..                ...          ...        ...       ...     ...        ...   \n",
       "795              A143         A151          1      A173       1       A191   \n",
       "796              A143         A153          1      A173       2       A192   \n",
       "797              A143         A151          2      A172       1       A191   \n",
       "798              A143         A152          2      A173       1       A192   \n",
       "799              A143         A152          1      A171       1       A191   \n",
       "\n",
       "    foreigner Group_no  \n",
       "0        A201        3  \n",
       "1        A201        1  \n",
       "2        A201        2  \n",
       "3        A201        1  \n",
       "4        A201        1  \n",
       "..        ...      ...  \n",
       "795      A201        2  \n",
       "796      A201        1  \n",
       "797      A201        3  \n",
       "798      A201        3  \n",
       "799      A201        2  \n",
       "\n",
       "[800 rows x 21 columns]>"
      ]
     },
     "execution_count": 4,
     "metadata": {},
     "output_type": "execute_result"
    }
   ],
   "source": [
    "tra.info"
   ]
  },
  {
   "cell_type": "code",
   "execution_count": 5,
   "metadata": {},
   "outputs": [],
   "source": [
    "tra.isnull().any().sum()\n",
    "tr = tra"
   ]
  },
  {
   "cell_type": "code",
   "execution_count": 6,
   "metadata": {},
   "outputs": [],
   "source": [
    "tr.dropna(inplace=True)"
   ]
  },
  {
   "cell_type": "code",
   "execution_count": 7,
   "metadata": {},
   "outputs": [
    {
     "data": {
      "text/plain": [
       "(761, 21)"
      ]
     },
     "execution_count": 7,
     "metadata": {},
     "output_type": "execute_result"
    }
   ],
   "source": [
    "tr.shape"
   ]
  },
  {
   "cell_type": "code",
   "execution_count": 8,
   "metadata": {},
   "outputs": [],
   "source": [
    "target=tr['Group_no'].unique()"
   ]
  },
  {
   "cell_type": "code",
   "execution_count": 9,
   "metadata": {},
   "outputs": [
    {
     "data": {
      "text/plain": [
       "array([3, 1, 2], dtype=int64)"
      ]
     },
     "execution_count": 9,
     "metadata": {},
     "output_type": "execute_result"
    }
   ],
   "source": [
    "target"
   ]
  },
  {
   "cell_type": "code",
   "execution_count": 10,
   "metadata": {},
   "outputs": [
    {
     "data": {
      "image/svg+xml": [
       "<svg class=\"main-svg\" xmlns=\"http://www.w3.org/2000/svg\" xmlns:xlink=\"http://www.w3.org/1999/xlink\" width=\"800\" height=\"400\" style=\"\" viewBox=\"0 0 800 400\"><rect x=\"0\" y=\"0\" width=\"800\" height=\"400\" style=\"fill: rgb(255, 255, 255); fill-opacity: 1;\"/><defs id=\"defs-647c4c\"><g class=\"clips\"/><g class=\"gradients\"/><g class=\"patterns\"/></defs><g class=\"bglayer\"/><g class=\"layer-below\"><g class=\"imagelayer\"/><g class=\"shapelayer\"/></g><g class=\"cartesianlayer\"/><g class=\"polarlayer\"/><g class=\"smithlayer\"/><g class=\"ternarylayer\"/><g class=\"geolayer\"/><g class=\"funnelarealayer\"/><g class=\"pielayer\"><g class=\"trace\" stroke-linejoin=\"round\" style=\"opacity: 1;\"><g class=\"slice\"><path class=\"surface\" d=\"M400,190l0,-130a130,130 0 0 1 47.696475071253,250.93405750977405Z\" style=\"pointer-events: none; fill: rgb(0, 128, 128); fill-opacity: 1; stroke-width: 0; stroke: rgb(68, 68, 68); stroke-opacity: 1;\"/><g class=\"slicetext\"><text data-notex=\"1\" class=\"slicetext\" transform=\"translate(464.38421664541863,174.45001045426974)\" text-anchor=\"middle\" x=\"0\" y=\"0\" style=\"font-family: 'Open Sans', verdana, arial, sans-serif; font-size: 12px; fill: rgb(255, 255, 255); fill-opacity: 1; white-space: pre;\"><tspan class=\"line\" dy=\"0em\" x=\"0\" y=\"0\">2</tspan><tspan class=\"line\" dy=\"1.3em\" x=\"0\" y=\"0\">44%</tspan></text></g></g><g class=\"slice\"><path class=\"surface\" d=\"M400,190l-120.83534864291833,47.94599585308846a130,130 0 0 1 120.83534864291833,-177.94599585308845Z\" style=\"pointer-events: none; fill: rgb(218, 165, 32); fill-opacity: 1; stroke-width: 0; stroke: rgb(68, 68, 68); stroke-opacity: 1;\"/><g class=\"slicetext\"><text data-notex=\"1\" class=\"slicetext\" transform=\"translate(341.1045687302849,146.7285247897765)\" text-anchor=\"middle\" x=\"0\" y=\"0\" style=\"font-family: 'Open Sans', verdana, arial, sans-serif; font-size: 12px; fill: rgb(68, 68, 68); fill-opacity: 1; white-space: pre;\"><tspan class=\"line\" dy=\"0em\" x=\"0\" y=\"0\">3</tspan><tspan class=\"line\" dy=\"1.3em\" x=\"0\" y=\"0\">31%</tspan></text></g></g><g class=\"slice\"><path class=\"surface\" d=\"M400,190l47.696475071253076,120.93405750977404a130,130 0 0 1 -168.53182371417142,-72.98806165668557Z\" style=\"pointer-events: none; fill: rgb(106, 90, 205); fill-opacity: 1; stroke-width: 0; stroke: rgb(68, 68, 68); stroke-opacity: 1;\"/><g class=\"slicetext\"><text data-notex=\"1\" class=\"slicetext\" transform=\"translate(369.6840923504543,256.60553909795635)\" text-anchor=\"middle\" x=\"0\" y=\"0\" style=\"font-family: 'Open Sans', verdana, arial, sans-serif; font-size: 12px; fill: rgb(255, 255, 255); fill-opacity: 1; white-space: pre;\"><tspan class=\"line\" dy=\"0em\" x=\"0\" y=\"0\">1</tspan><tspan class=\"line\" dy=\"1.3em\" x=\"0\" y=\"0\">25%</tspan></text></g></g></g></g><g class=\"iciclelayer\"/><g class=\"treemaplayer\"/><g class=\"sunburstlayer\"/><g class=\"glimages\"/><defs id=\"topdefs-647c4c\"><g class=\"clips\"/></defs><g class=\"layer-above\"><g class=\"imagelayer\"/><g class=\"shapelayer\"/></g><g class=\"infolayer\"><g class=\"g-gtitle\"><text class=\"gtitle\" x=\"40\" y=\"30\" text-anchor=\"start\" dy=\"0em\" style=\"font-family: 'Open Sans', verdana, arial, sans-serif; font-size: 17px; fill: rgb(42, 63, 95); opacity: 1; font-weight: normal; white-space: pre;\">Distribution of Target</text></g></g></svg>"
      ]
     },
     "metadata": {},
     "output_type": "display_data"
    }
   ],
   "source": [
    "# Distribution of Target feature\n",
    "fig = px.pie(values= tr['Group_no'].value_counts(),names= tr['Group_no'].value_counts().index.to_list())\n",
    "\n",
    "fig.update_traces(textposition='inside', textinfo='percent+label',marker=dict(colors=['teal', 'goldenrod', 'slateblue']))\n",
    "\n",
    "fig.update_layout(showlegend = False, height=400, width=800, title='Distribution of Target')\n",
    "fig.write_image('fig.svg', engine='kaleido')\n",
    "fig.show('svg')"
   ]
  },
  {
   "cell_type": "code",
   "execution_count": 11,
   "metadata": {},
   "outputs": [
    {
     "data": {
      "application/vnd.plotly.v1+json": {
       "config": {
        "plotlyServerURL": "https://plot.ly"
       },
       "data": [
        {
         "coloraxis": "coloraxis",
         "hovertemplate": "x: %{x}<br>y: %{y}<br>color: %{z}<extra></extra>",
         "name": "0",
         "texttemplate": "%{z}",
         "type": "heatmap",
         "x": [
          "sno",
          "acc_info",
          "duration_month",
          "credit_history",
          "purpose",
          "savings_acc",
          "employment_st",
          "poi",
          "personal_status",
          "gurantors",
          "resident_since",
          "property_type",
          "age",
          "installment_type",
          "housing_type",
          "credits_no",
          "job_type",
          "liables",
          "telephone",
          "foreigner",
          "Group_no"
         ],
         "xaxis": "x",
         "y": [
          "sno",
          "acc_info",
          "duration_month",
          "credit_history",
          "purpose",
          "savings_acc",
          "employment_st",
          "poi",
          "personal_status",
          "gurantors",
          "resident_since",
          "property_type",
          "age",
          "installment_type",
          "housing_type",
          "credits_no",
          "job_type",
          "liables",
          "telephone",
          "foreigner",
          "Group_no"
         ],
         "yaxis": "y",
         "z": [
          [
           1,
           0.02,
           -0.01,
           -0.02,
           -0.06,
           0.01,
           -0.01,
           0.01,
           -0.03,
           -0.01,
           0.03,
           0,
           -0.04,
           0,
           0,
           -0.01,
           -0.04,
           -0.01,
           -0.03,
           -0.06,
           0.05
          ],
          [
           0.02,
           1,
           -0.06,
           0.2,
           0.04,
           0.2,
           0.12,
           0,
           0.04,
           -0.12,
           -0.03,
           -0.01,
           0.05,
           0.05,
           0.02,
           0.07,
           0.05,
           -0.06,
           0.08,
           -0.03,
           0.01
          ],
          [
           -0.01,
           -0.06,
           1,
           -0.08,
           0.07,
           0.05,
           0.07,
           0.09,
           0.02,
           -0.01,
           0.03,
           0.29,
           -0.04,
           -0.08,
           0.15,
           -0.01,
           0.2,
           -0.02,
           0.18,
           -0.15,
           -0.59
          ],
          [
           -0.02,
           0.2,
           -0.08,
           1,
           -0.08,
           0.02,
           0.1,
           0.03,
           0.03,
           -0.04,
           0.03,
           -0.03,
           0.16,
           0.1,
           0.06,
           0.43,
           0.02,
           0.01,
           0.05,
           0.03,
           0
          ],
          [
           -0.06,
           0.04,
           0.07,
           -0.08,
           1,
           -0.04,
           0.01,
           0.06,
           -0.01,
           -0.02,
           -0.06,
           -0.05,
           -0.02,
           -0.04,
           -0.04,
           0.04,
           -0.05,
           -0.07,
           0.01,
           -0.11,
           -0.03
          ],
          [
           0.01,
           0.2,
           0.05,
           0.02,
           -0.04,
           1,
           0.12,
           0.04,
           0.03,
           -0.11,
           0.1,
           0.02,
           0.09,
           -0.04,
           0.01,
           -0.03,
           0,
           0.04,
           0.09,
           0.02,
           -0.01
          ],
          [
           -0.01,
           0.12,
           0.07,
           0.1,
           0.01,
           0.12,
           1,
           0.14,
           0.08,
           0,
           0.25,
           0.11,
           0.26,
           -0.03,
           0.14,
           0.09,
           0.12,
           0.11,
           0.07,
           -0.03,
           0
          ],
          [
           0.01,
           0,
           0.09,
           0.03,
           0.06,
           0.04,
           0.14,
           1,
           0.09,
           0.01,
           0.05,
           0.02,
           0.08,
           0,
           0.07,
           0.02,
           0.1,
           -0.07,
           -0.01,
           -0.1,
           0.25
          ],
          [
           -0.03,
           0.04,
           0.02,
           0.03,
           -0.01,
           0.03,
           0.08,
           0.09,
           1,
           0.05,
           -0.01,
           -0.03,
           0.03,
           -0.03,
           0.11,
           0.05,
           0,
           0.1,
           0.03,
           0.06,
           -0.02
          ],
          [
           -0.01,
           -0.12,
           -0.01,
           -0.04,
           -0.02,
           -0.11,
           0,
           0.01,
           0.05,
           1,
           -0.03,
           -0.16,
           -0.05,
           -0.03,
           -0.04,
           -0.01,
           -0.05,
           0.01,
           -0.07,
           0.09,
           0.04
          ],
          [
           0.03,
           -0.03,
           0.03,
           0.03,
           -0.06,
           0.1,
           0.25,
           0.05,
           -0.01,
           -0.03,
           1,
           0.14,
           0.26,
           -0.01,
           0,
           0.07,
           0.02,
           0.04,
           0.11,
           -0.03,
           -0.02
          ],
          [
           0,
           -0.01,
           0.29,
           -0.03,
           -0.05,
           0.02,
           0.11,
           0.02,
           -0.03,
           -0.16,
           0.14,
           1,
           0.09,
           -0.11,
           0.35,
           0.02,
           0.28,
           0.02,
           0.2,
           -0.13,
           -0.3
          ],
          [
           -0.04,
           0.05,
           -0.04,
           0.16,
           -0.02,
           0.09,
           0.26,
           0.08,
           0.03,
           -0.05,
           0.26,
           0.09,
           1,
           -0.02,
           0.34,
           0.15,
           0.01,
           0.12,
           0.17,
           0.02,
           -0.01
          ],
          [
           0,
           0.05,
           -0.08,
           0.1,
           -0.04,
           -0.04,
           -0.03,
           0,
           -0.03,
           -0.03,
           -0.01,
           -0.11,
           -0.02,
           1,
           -0.11,
           -0.06,
           0.02,
           -0.09,
           0,
           0.06,
           0.04
          ],
          [
           0,
           0.02,
           0.15,
           0.06,
           -0.04,
           0.01,
           0.14,
           0.07,
           0.11,
           -0.04,
           0,
           0.35,
           0.34,
           -0.11,
           1,
           0.06,
           0.12,
           0.12,
           0.12,
           -0.06,
           -0.1
          ],
          [
           -0.01,
           0.07,
           -0.01,
           0.43,
           0.04,
           -0.03,
           0.09,
           0.02,
           0.05,
           -0.01,
           0.07,
           0.02,
           0.15,
           -0.06,
           0.06,
           1,
           0,
           0.08,
           0.06,
           0.01,
           -0.06
          ],
          [
           -0.04,
           0.05,
           0.2,
           0.02,
           -0.05,
           0,
           0.12,
           0.1,
           0,
           -0.05,
           0.02,
           0.28,
           0.01,
           0.02,
           0.12,
           0,
           1,
           -0.08,
           0.35,
           -0.11,
           -0.3
          ],
          [
           -0.01,
           -0.06,
           -0.02,
           0.01,
           -0.07,
           0.04,
           0.11,
           -0.07,
           0.1,
           0.01,
           0.04,
           0.02,
           0.12,
           -0.09,
           0.12,
           0.08,
           -0.08,
           1,
           -0.03,
           0.08,
           -0.01
          ],
          [
           -0.03,
           0.08,
           0.18,
           0.05,
           0.01,
           0.09,
           0.07,
           -0.01,
           0.03,
           -0.07,
           0.11,
           0.2,
           0.17,
           0,
           0.12,
           0.06,
           0.35,
           -0.03,
           1,
           -0.09,
           -0.26
          ],
          [
           -0.06,
           -0.03,
           -0.15,
           0.03,
           -0.11,
           0.02,
           -0.03,
           -0.1,
           0.06,
           0.09,
           -0.03,
           -0.13,
           0.02,
           0.06,
           -0.06,
           0.01,
           -0.11,
           0.08,
           -0.09,
           1,
           0.11
          ],
          [
           0.05,
           0.01,
           -0.59,
           0,
           -0.03,
           -0.01,
           0,
           0.25,
           -0.02,
           0.04,
           -0.02,
           -0.3,
           -0.01,
           0.04,
           -0.1,
           -0.06,
           -0.3,
           -0.01,
           -0.26,
           0.11,
           1
          ]
         ]
        }
       ],
       "layout": {
        "coloraxis": {
         "colorscale": [
          [
           0,
           "rgb(5,48,97)"
          ],
          [
           0.1,
           "rgb(33,102,172)"
          ],
          [
           0.2,
           "rgb(67,147,195)"
          ],
          [
           0.3,
           "rgb(146,197,222)"
          ],
          [
           0.4,
           "rgb(209,229,240)"
          ],
          [
           0.5,
           "rgb(247,247,247)"
          ],
          [
           0.6,
           "rgb(253,219,199)"
          ],
          [
           0.7,
           "rgb(244,165,130)"
          ],
          [
           0.8,
           "rgb(214,96,77)"
          ],
          [
           0.9,
           "rgb(178,24,43)"
          ],
          [
           1,
           "rgb(103,0,31)"
          ]
         ]
        },
        "height": 800,
        "margin": {
         "t": 60
        },
        "template": {
         "data": {
          "bar": [
           {
            "error_x": {
             "color": "#2a3f5f"
            },
            "error_y": {
             "color": "#2a3f5f"
            },
            "marker": {
             "line": {
              "color": "#E5ECF6",
              "width": 0.5
             },
             "pattern": {
              "fillmode": "overlay",
              "size": 10,
              "solidity": 0.2
             }
            },
            "type": "bar"
           }
          ],
          "barpolar": [
           {
            "marker": {
             "line": {
              "color": "#E5ECF6",
              "width": 0.5
             },
             "pattern": {
              "fillmode": "overlay",
              "size": 10,
              "solidity": 0.2
             }
            },
            "type": "barpolar"
           }
          ],
          "carpet": [
           {
            "aaxis": {
             "endlinecolor": "#2a3f5f",
             "gridcolor": "white",
             "linecolor": "white",
             "minorgridcolor": "white",
             "startlinecolor": "#2a3f5f"
            },
            "baxis": {
             "endlinecolor": "#2a3f5f",
             "gridcolor": "white",
             "linecolor": "white",
             "minorgridcolor": "white",
             "startlinecolor": "#2a3f5f"
            },
            "type": "carpet"
           }
          ],
          "choropleth": [
           {
            "colorbar": {
             "outlinewidth": 0,
             "ticks": ""
            },
            "type": "choropleth"
           }
          ],
          "contour": [
           {
            "colorbar": {
             "outlinewidth": 0,
             "ticks": ""
            },
            "colorscale": [
             [
              0,
              "#0d0887"
             ],
             [
              0.1111111111111111,
              "#46039f"
             ],
             [
              0.2222222222222222,
              "#7201a8"
             ],
             [
              0.3333333333333333,
              "#9c179e"
             ],
             [
              0.4444444444444444,
              "#bd3786"
             ],
             [
              0.5555555555555556,
              "#d8576b"
             ],
             [
              0.6666666666666666,
              "#ed7953"
             ],
             [
              0.7777777777777778,
              "#fb9f3a"
             ],
             [
              0.8888888888888888,
              "#fdca26"
             ],
             [
              1,
              "#f0f921"
             ]
            ],
            "type": "contour"
           }
          ],
          "contourcarpet": [
           {
            "colorbar": {
             "outlinewidth": 0,
             "ticks": ""
            },
            "type": "contourcarpet"
           }
          ],
          "heatmap": [
           {
            "colorbar": {
             "outlinewidth": 0,
             "ticks": ""
            },
            "colorscale": [
             [
              0,
              "#0d0887"
             ],
             [
              0.1111111111111111,
              "#46039f"
             ],
             [
              0.2222222222222222,
              "#7201a8"
             ],
             [
              0.3333333333333333,
              "#9c179e"
             ],
             [
              0.4444444444444444,
              "#bd3786"
             ],
             [
              0.5555555555555556,
              "#d8576b"
             ],
             [
              0.6666666666666666,
              "#ed7953"
             ],
             [
              0.7777777777777778,
              "#fb9f3a"
             ],
             [
              0.8888888888888888,
              "#fdca26"
             ],
             [
              1,
              "#f0f921"
             ]
            ],
            "type": "heatmap"
           }
          ],
          "heatmapgl": [
           {
            "colorbar": {
             "outlinewidth": 0,
             "ticks": ""
            },
            "colorscale": [
             [
              0,
              "#0d0887"
             ],
             [
              0.1111111111111111,
              "#46039f"
             ],
             [
              0.2222222222222222,
              "#7201a8"
             ],
             [
              0.3333333333333333,
              "#9c179e"
             ],
             [
              0.4444444444444444,
              "#bd3786"
             ],
             [
              0.5555555555555556,
              "#d8576b"
             ],
             [
              0.6666666666666666,
              "#ed7953"
             ],
             [
              0.7777777777777778,
              "#fb9f3a"
             ],
             [
              0.8888888888888888,
              "#fdca26"
             ],
             [
              1,
              "#f0f921"
             ]
            ],
            "type": "heatmapgl"
           }
          ],
          "histogram": [
           {
            "marker": {
             "pattern": {
              "fillmode": "overlay",
              "size": 10,
              "solidity": 0.2
             }
            },
            "type": "histogram"
           }
          ],
          "histogram2d": [
           {
            "colorbar": {
             "outlinewidth": 0,
             "ticks": ""
            },
            "colorscale": [
             [
              0,
              "#0d0887"
             ],
             [
              0.1111111111111111,
              "#46039f"
             ],
             [
              0.2222222222222222,
              "#7201a8"
             ],
             [
              0.3333333333333333,
              "#9c179e"
             ],
             [
              0.4444444444444444,
              "#bd3786"
             ],
             [
              0.5555555555555556,
              "#d8576b"
             ],
             [
              0.6666666666666666,
              "#ed7953"
             ],
             [
              0.7777777777777778,
              "#fb9f3a"
             ],
             [
              0.8888888888888888,
              "#fdca26"
             ],
             [
              1,
              "#f0f921"
             ]
            ],
            "type": "histogram2d"
           }
          ],
          "histogram2dcontour": [
           {
            "colorbar": {
             "outlinewidth": 0,
             "ticks": ""
            },
            "colorscale": [
             [
              0,
              "#0d0887"
             ],
             [
              0.1111111111111111,
              "#46039f"
             ],
             [
              0.2222222222222222,
              "#7201a8"
             ],
             [
              0.3333333333333333,
              "#9c179e"
             ],
             [
              0.4444444444444444,
              "#bd3786"
             ],
             [
              0.5555555555555556,
              "#d8576b"
             ],
             [
              0.6666666666666666,
              "#ed7953"
             ],
             [
              0.7777777777777778,
              "#fb9f3a"
             ],
             [
              0.8888888888888888,
              "#fdca26"
             ],
             [
              1,
              "#f0f921"
             ]
            ],
            "type": "histogram2dcontour"
           }
          ],
          "mesh3d": [
           {
            "colorbar": {
             "outlinewidth": 0,
             "ticks": ""
            },
            "type": "mesh3d"
           }
          ],
          "parcoords": [
           {
            "line": {
             "colorbar": {
              "outlinewidth": 0,
              "ticks": ""
             }
            },
            "type": "parcoords"
           }
          ],
          "pie": [
           {
            "automargin": true,
            "type": "pie"
           }
          ],
          "scatter": [
           {
            "fillpattern": {
             "fillmode": "overlay",
             "size": 10,
             "solidity": 0.2
            },
            "type": "scatter"
           }
          ],
          "scatter3d": [
           {
            "line": {
             "colorbar": {
              "outlinewidth": 0,
              "ticks": ""
             }
            },
            "marker": {
             "colorbar": {
              "outlinewidth": 0,
              "ticks": ""
             }
            },
            "type": "scatter3d"
           }
          ],
          "scattercarpet": [
           {
            "marker": {
             "colorbar": {
              "outlinewidth": 0,
              "ticks": ""
             }
            },
            "type": "scattercarpet"
           }
          ],
          "scattergeo": [
           {
            "marker": {
             "colorbar": {
              "outlinewidth": 0,
              "ticks": ""
             }
            },
            "type": "scattergeo"
           }
          ],
          "scattergl": [
           {
            "marker": {
             "colorbar": {
              "outlinewidth": 0,
              "ticks": ""
             }
            },
            "type": "scattergl"
           }
          ],
          "scattermapbox": [
           {
            "marker": {
             "colorbar": {
              "outlinewidth": 0,
              "ticks": ""
             }
            },
            "type": "scattermapbox"
           }
          ],
          "scatterpolar": [
           {
            "marker": {
             "colorbar": {
              "outlinewidth": 0,
              "ticks": ""
             }
            },
            "type": "scatterpolar"
           }
          ],
          "scatterpolargl": [
           {
            "marker": {
             "colorbar": {
              "outlinewidth": 0,
              "ticks": ""
             }
            },
            "type": "scatterpolargl"
           }
          ],
          "scatterternary": [
           {
            "marker": {
             "colorbar": {
              "outlinewidth": 0,
              "ticks": ""
             }
            },
            "type": "scatterternary"
           }
          ],
          "surface": [
           {
            "colorbar": {
             "outlinewidth": 0,
             "ticks": ""
            },
            "colorscale": [
             [
              0,
              "#0d0887"
             ],
             [
              0.1111111111111111,
              "#46039f"
             ],
             [
              0.2222222222222222,
              "#7201a8"
             ],
             [
              0.3333333333333333,
              "#9c179e"
             ],
             [
              0.4444444444444444,
              "#bd3786"
             ],
             [
              0.5555555555555556,
              "#d8576b"
             ],
             [
              0.6666666666666666,
              "#ed7953"
             ],
             [
              0.7777777777777778,
              "#fb9f3a"
             ],
             [
              0.8888888888888888,
              "#fdca26"
             ],
             [
              1,
              "#f0f921"
             ]
            ],
            "type": "surface"
           }
          ],
          "table": [
           {
            "cells": {
             "fill": {
              "color": "#EBF0F8"
             },
             "line": {
              "color": "white"
             }
            },
            "header": {
             "fill": {
              "color": "#C8D4E3"
             },
             "line": {
              "color": "white"
             }
            },
            "type": "table"
           }
          ]
         },
         "layout": {
          "annotationdefaults": {
           "arrowcolor": "#2a3f5f",
           "arrowhead": 0,
           "arrowwidth": 1
          },
          "autotypenumbers": "strict",
          "coloraxis": {
           "colorbar": {
            "outlinewidth": 0,
            "ticks": ""
           }
          },
          "colorscale": {
           "diverging": [
            [
             0,
             "#8e0152"
            ],
            [
             0.1,
             "#c51b7d"
            ],
            [
             0.2,
             "#de77ae"
            ],
            [
             0.3,
             "#f1b6da"
            ],
            [
             0.4,
             "#fde0ef"
            ],
            [
             0.5,
             "#f7f7f7"
            ],
            [
             0.6,
             "#e6f5d0"
            ],
            [
             0.7,
             "#b8e186"
            ],
            [
             0.8,
             "#7fbc41"
            ],
            [
             0.9,
             "#4d9221"
            ],
            [
             1,
             "#276419"
            ]
           ],
           "sequential": [
            [
             0,
             "#0d0887"
            ],
            [
             0.1111111111111111,
             "#46039f"
            ],
            [
             0.2222222222222222,
             "#7201a8"
            ],
            [
             0.3333333333333333,
             "#9c179e"
            ],
            [
             0.4444444444444444,
             "#bd3786"
            ],
            [
             0.5555555555555556,
             "#d8576b"
            ],
            [
             0.6666666666666666,
             "#ed7953"
            ],
            [
             0.7777777777777778,
             "#fb9f3a"
            ],
            [
             0.8888888888888888,
             "#fdca26"
            ],
            [
             1,
             "#f0f921"
            ]
           ],
           "sequentialminus": [
            [
             0,
             "#0d0887"
            ],
            [
             0.1111111111111111,
             "#46039f"
            ],
            [
             0.2222222222222222,
             "#7201a8"
            ],
            [
             0.3333333333333333,
             "#9c179e"
            ],
            [
             0.4444444444444444,
             "#bd3786"
            ],
            [
             0.5555555555555556,
             "#d8576b"
            ],
            [
             0.6666666666666666,
             "#ed7953"
            ],
            [
             0.7777777777777778,
             "#fb9f3a"
            ],
            [
             0.8888888888888888,
             "#fdca26"
            ],
            [
             1,
             "#f0f921"
            ]
           ]
          },
          "colorway": [
           "#636efa",
           "#EF553B",
           "#00cc96",
           "#ab63fa",
           "#FFA15A",
           "#19d3f3",
           "#FF6692",
           "#B6E880",
           "#FF97FF",
           "#FECB52"
          ],
          "font": {
           "color": "#2a3f5f"
          },
          "geo": {
           "bgcolor": "white",
           "lakecolor": "white",
           "landcolor": "#E5ECF6",
           "showlakes": true,
           "showland": true,
           "subunitcolor": "white"
          },
          "hoverlabel": {
           "align": "left"
          },
          "hovermode": "closest",
          "mapbox": {
           "style": "light"
          },
          "paper_bgcolor": "white",
          "plot_bgcolor": "#E5ECF6",
          "polar": {
           "angularaxis": {
            "gridcolor": "white",
            "linecolor": "white",
            "ticks": ""
           },
           "bgcolor": "#E5ECF6",
           "radialaxis": {
            "gridcolor": "white",
            "linecolor": "white",
            "ticks": ""
           }
          },
          "scene": {
           "xaxis": {
            "backgroundcolor": "#E5ECF6",
            "gridcolor": "white",
            "gridwidth": 2,
            "linecolor": "white",
            "showbackground": true,
            "ticks": "",
            "zerolinecolor": "white"
           },
           "yaxis": {
            "backgroundcolor": "#E5ECF6",
            "gridcolor": "white",
            "gridwidth": 2,
            "linecolor": "white",
            "showbackground": true,
            "ticks": "",
            "zerolinecolor": "white"
           },
           "zaxis": {
            "backgroundcolor": "#E5ECF6",
            "gridcolor": "white",
            "gridwidth": 2,
            "linecolor": "white",
            "showbackground": true,
            "ticks": "",
            "zerolinecolor": "white"
           }
          },
          "shapedefaults": {
           "line": {
            "color": "#2a3f5f"
           }
          },
          "ternary": {
           "aaxis": {
            "gridcolor": "white",
            "linecolor": "white",
            "ticks": ""
           },
           "baxis": {
            "gridcolor": "white",
            "linecolor": "white",
            "ticks": ""
           },
           "bgcolor": "#E5ECF6",
           "caxis": {
            "gridcolor": "white",
            "linecolor": "white",
            "ticks": ""
           }
          },
          "title": {
           "x": 0.05
          },
          "xaxis": {
           "automargin": true,
           "gridcolor": "white",
           "linecolor": "white",
           "ticks": "",
           "title": {
            "standoff": 15
           },
           "zerolinecolor": "white",
           "zerolinewidth": 2
          },
          "yaxis": {
           "automargin": true,
           "gridcolor": "white",
           "linecolor": "white",
           "ticks": "",
           "title": {
            "standoff": 15
           },
           "zerolinecolor": "white",
           "zerolinewidth": 2
          }
         }
        },
        "title": {
         "text": "Correlation Analysis for independent features"
        },
        "width": 1500,
        "xaxis": {
         "anchor": "y",
         "domain": [
          0,
          1
         ]
        },
        "yaxis": {
         "anchor": "x",
         "autorange": "reversed",
         "domain": [
          0,
          1
         ]
        }
       }
      }
     },
     "metadata": {},
     "output_type": "display_data"
    }
   ],
   "source": [
    "import pandas as pd\n",
    "import plotly.express as px\n",
    "from sklearn.preprocessing import LabelEncoder\n",
    "\n",
    "# Copy the dataframe to avoid modifying the original data\n",
    "tra_copy = tra.copy()\n",
    "\n",
    "# Convert categorical columns to numeric using label encoding\n",
    "label_encoders = {}\n",
    "for col in tra_copy.columns:\n",
    "    if tra_copy[col].dtype == 'object':  # Check if the column is categorical\n",
    "        le = LabelEncoder()\n",
    "        tra_copy[col] = le.fit_transform(tra_copy[col])\n",
    "        label_encoders[col] = le\n",
    "\n",
    "# Compute correlation matrix using only numeric columns\n",
    "numeric_columns = tra_copy.select_dtypes(include=['number']).columns\n",
    "correlation_matrix = tra_copy[numeric_columns].corr().round(2)\n",
    "\n",
    "# Plot the correlation heatmap\n",
    "fig = px.imshow(correlation_matrix, text_auto=True, aspect=\"auto\", color_continuous_scale='RdBu_r')\n",
    "fig.update_layout(title='Correlation Analysis for independent features', height=800, width=1500)\n"
   ]
  },
  {
   "cell_type": "code",
   "execution_count": 12,
   "metadata": {},
   "outputs": [
    {
     "data": {
      "text/html": [
       "<div>\n",
       "<style scoped>\n",
       "    .dataframe tbody tr th:only-of-type {\n",
       "        vertical-align: middle;\n",
       "    }\n",
       "\n",
       "    .dataframe tbody tr th {\n",
       "        vertical-align: top;\n",
       "    }\n",
       "\n",
       "    .dataframe thead th {\n",
       "        text-align: right;\n",
       "    }\n",
       "</style>\n",
       "<table border=\"1\" class=\"dataframe\">\n",
       "  <thead>\n",
       "    <tr style=\"text-align: right;\">\n",
       "      <th></th>\n",
       "      <th>sno</th>\n",
       "      <th>acc_info</th>\n",
       "      <th>duration_month</th>\n",
       "      <th>credit_history</th>\n",
       "      <th>purpose</th>\n",
       "      <th>savings_acc</th>\n",
       "      <th>employment_st</th>\n",
       "      <th>poi</th>\n",
       "      <th>personal_status</th>\n",
       "      <th>gurantors</th>\n",
       "      <th>resident_since</th>\n",
       "      <th>property_type</th>\n",
       "      <th>age</th>\n",
       "      <th>installment_type</th>\n",
       "      <th>housing_type</th>\n",
       "      <th>credits_no</th>\n",
       "      <th>job_type</th>\n",
       "      <th>liables</th>\n",
       "      <th>telephone</th>\n",
       "      <th>foreigner</th>\n",
       "    </tr>\n",
       "  </thead>\n",
       "  <tbody>\n",
       "    <tr>\n",
       "      <th>0</th>\n",
       "      <td>1</td>\n",
       "      <td>A14</td>\n",
       "      <td>24</td>\n",
       "      <td>A34</td>\n",
       "      <td>A46</td>\n",
       "      <td>A61</td>\n",
       "      <td>A75</td>\n",
       "      <td>4.0</td>\n",
       "      <td>A93</td>\n",
       "      <td>A101</td>\n",
       "      <td>4</td>\n",
       "      <td>A124</td>\n",
       "      <td>54.0</td>\n",
       "      <td>A143</td>\n",
       "      <td>A153</td>\n",
       "      <td>2</td>\n",
       "      <td>A173</td>\n",
       "      <td>2</td>\n",
       "      <td>A191</td>\n",
       "      <td>A201</td>\n",
       "    </tr>\n",
       "    <tr>\n",
       "      <th>1</th>\n",
       "      <td>2</td>\n",
       "      <td>A12</td>\n",
       "      <td>18</td>\n",
       "      <td>A34</td>\n",
       "      <td>A43</td>\n",
       "      <td>A61</td>\n",
       "      <td>A75</td>\n",
       "      <td>3.0</td>\n",
       "      <td>A92</td>\n",
       "      <td>A103</td>\n",
       "      <td>4</td>\n",
       "      <td>A121</td>\n",
       "      <td>48.0</td>\n",
       "      <td>A141</td>\n",
       "      <td>A151</td>\n",
       "      <td>2</td>\n",
       "      <td>A172</td>\n",
       "      <td>1</td>\n",
       "      <td>A192</td>\n",
       "      <td>A201</td>\n",
       "    </tr>\n",
       "    <tr>\n",
       "      <th>2</th>\n",
       "      <td>3</td>\n",
       "      <td>A11</td>\n",
       "      <td>20</td>\n",
       "      <td>A34</td>\n",
       "      <td>A42</td>\n",
       "      <td>A61</td>\n",
       "      <td>A75</td>\n",
       "      <td>1.0</td>\n",
       "      <td>A92</td>\n",
       "      <td>A101</td>\n",
       "      <td>4</td>\n",
       "      <td>A122</td>\n",
       "      <td>24.0</td>\n",
       "      <td>A143</td>\n",
       "      <td>A152</td>\n",
       "      <td>2</td>\n",
       "      <td>A173</td>\n",
       "      <td>1</td>\n",
       "      <td>A191</td>\n",
       "      <td>A201</td>\n",
       "    </tr>\n",
       "    <tr>\n",
       "      <th>3</th>\n",
       "      <td>4</td>\n",
       "      <td>A14</td>\n",
       "      <td>12</td>\n",
       "      <td>A34</td>\n",
       "      <td>A43</td>\n",
       "      <td>A65</td>\n",
       "      <td>A75</td>\n",
       "      <td>4.0</td>\n",
       "      <td>A93</td>\n",
       "      <td>A101</td>\n",
       "      <td>4</td>\n",
       "      <td>A123</td>\n",
       "      <td>35.0</td>\n",
       "      <td>A143</td>\n",
       "      <td>A152</td>\n",
       "      <td>2</td>\n",
       "      <td>A173</td>\n",
       "      <td>1</td>\n",
       "      <td>A191</td>\n",
       "      <td>A201</td>\n",
       "    </tr>\n",
       "    <tr>\n",
       "      <th>4</th>\n",
       "      <td>5</td>\n",
       "      <td>A12</td>\n",
       "      <td>12</td>\n",
       "      <td>A32</td>\n",
       "      <td>A40</td>\n",
       "      <td>A65</td>\n",
       "      <td>A71</td>\n",
       "      <td>1.0</td>\n",
       "      <td>A92</td>\n",
       "      <td>A101</td>\n",
       "      <td>2</td>\n",
       "      <td>A121</td>\n",
       "      <td>24.0</td>\n",
       "      <td>A143</td>\n",
       "      <td>A151</td>\n",
       "      <td>1</td>\n",
       "      <td>A171</td>\n",
       "      <td>1</td>\n",
       "      <td>A191</td>\n",
       "      <td>A201</td>\n",
       "    </tr>\n",
       "    <tr>\n",
       "      <th>...</th>\n",
       "      <td>...</td>\n",
       "      <td>...</td>\n",
       "      <td>...</td>\n",
       "      <td>...</td>\n",
       "      <td>...</td>\n",
       "      <td>...</td>\n",
       "      <td>...</td>\n",
       "      <td>...</td>\n",
       "      <td>...</td>\n",
       "      <td>...</td>\n",
       "      <td>...</td>\n",
       "      <td>...</td>\n",
       "      <td>...</td>\n",
       "      <td>...</td>\n",
       "      <td>...</td>\n",
       "      <td>...</td>\n",
       "      <td>...</td>\n",
       "      <td>...</td>\n",
       "      <td>...</td>\n",
       "      <td>...</td>\n",
       "    </tr>\n",
       "    <tr>\n",
       "      <th>195</th>\n",
       "      <td>196</td>\n",
       "      <td>A14</td>\n",
       "      <td>12</td>\n",
       "      <td>A32</td>\n",
       "      <td>A42</td>\n",
       "      <td>A61</td>\n",
       "      <td>A74</td>\n",
       "      <td>3.0</td>\n",
       "      <td>A92</td>\n",
       "      <td>A101</td>\n",
       "      <td>4</td>\n",
       "      <td>A121</td>\n",
       "      <td>31.0</td>\n",
       "      <td>A143</td>\n",
       "      <td>A152</td>\n",
       "      <td>1</td>\n",
       "      <td>A172</td>\n",
       "      <td>1</td>\n",
       "      <td>A191</td>\n",
       "      <td>A201</td>\n",
       "    </tr>\n",
       "    <tr>\n",
       "      <th>196</th>\n",
       "      <td>197</td>\n",
       "      <td>A11</td>\n",
       "      <td>30</td>\n",
       "      <td>A32</td>\n",
       "      <td>A41</td>\n",
       "      <td>A61</td>\n",
       "      <td>NaN</td>\n",
       "      <td>4.0</td>\n",
       "      <td>A91</td>\n",
       "      <td>A101</td>\n",
       "      <td>4</td>\n",
       "      <td>A122</td>\n",
       "      <td>40.0</td>\n",
       "      <td>A143</td>\n",
       "      <td>A152</td>\n",
       "      <td>1</td>\n",
       "      <td>A174</td>\n",
       "      <td>1</td>\n",
       "      <td>A192</td>\n",
       "      <td>A201</td>\n",
       "    </tr>\n",
       "    <tr>\n",
       "      <th>197</th>\n",
       "      <td>198</td>\n",
       "      <td>A14</td>\n",
       "      <td>12</td>\n",
       "      <td>A32</td>\n",
       "      <td>A43</td>\n",
       "      <td>A61</td>\n",
       "      <td>A75</td>\n",
       "      <td>4.0</td>\n",
       "      <td>A93</td>\n",
       "      <td>A101</td>\n",
       "      <td>4</td>\n",
       "      <td>A123</td>\n",
       "      <td>38.0</td>\n",
       "      <td>A143</td>\n",
       "      <td>NaN</td>\n",
       "      <td>1</td>\n",
       "      <td>A173</td>\n",
       "      <td>1</td>\n",
       "      <td>A191</td>\n",
       "      <td>A201</td>\n",
       "    </tr>\n",
       "    <tr>\n",
       "      <th>198</th>\n",
       "      <td>199</td>\n",
       "      <td>A11</td>\n",
       "      <td>45</td>\n",
       "      <td>A32</td>\n",
       "      <td>A43</td>\n",
       "      <td>A61</td>\n",
       "      <td>A73</td>\n",
       "      <td>4.0</td>\n",
       "      <td>A93</td>\n",
       "      <td>A101</td>\n",
       "      <td>4</td>\n",
       "      <td>A124</td>\n",
       "      <td>23.0</td>\n",
       "      <td>A143</td>\n",
       "      <td>A153</td>\n",
       "      <td>1</td>\n",
       "      <td>A173</td>\n",
       "      <td>1</td>\n",
       "      <td>A192</td>\n",
       "      <td>A201</td>\n",
       "    </tr>\n",
       "    <tr>\n",
       "      <th>199</th>\n",
       "      <td>200</td>\n",
       "      <td>A12</td>\n",
       "      <td>45</td>\n",
       "      <td>A34</td>\n",
       "      <td>A41</td>\n",
       "      <td>A62</td>\n",
       "      <td>A71</td>\n",
       "      <td>3.0</td>\n",
       "      <td>A93</td>\n",
       "      <td>A101</td>\n",
       "      <td>4</td>\n",
       "      <td>A123</td>\n",
       "      <td>27.0</td>\n",
       "      <td>A143</td>\n",
       "      <td>A152</td>\n",
       "      <td>1</td>\n",
       "      <td>A173</td>\n",
       "      <td>1</td>\n",
       "      <td>A191</td>\n",
       "      <td>A201</td>\n",
       "    </tr>\n",
       "  </tbody>\n",
       "</table>\n",
       "<p>200 rows × 20 columns</p>\n",
       "</div>"
      ],
      "text/plain": [
       "     sno acc_info  duration_month credit_history purpose savings_acc  \\\n",
       "0      1      A14              24            A34     A46         A61   \n",
       "1      2      A12              18            A34     A43         A61   \n",
       "2      3      A11              20            A34     A42         A61   \n",
       "3      4      A14              12            A34     A43         A65   \n",
       "4      5      A12              12            A32     A40         A65   \n",
       "..   ...      ...             ...            ...     ...         ...   \n",
       "195  196      A14              12            A32     A42         A61   \n",
       "196  197      A11              30            A32     A41         A61   \n",
       "197  198      A14              12            A32     A43         A61   \n",
       "198  199      A11              45            A32     A43         A61   \n",
       "199  200      A12              45            A34     A41         A62   \n",
       "\n",
       "    employment_st  poi personal_status gurantors  resident_since  \\\n",
       "0             A75  4.0             A93      A101               4   \n",
       "1             A75  3.0             A92      A103               4   \n",
       "2             A75  1.0             A92      A101               4   \n",
       "3             A75  4.0             A93      A101               4   \n",
       "4             A71  1.0             A92      A101               2   \n",
       "..            ...  ...             ...       ...             ...   \n",
       "195           A74  3.0             A92      A101               4   \n",
       "196           NaN  4.0             A91      A101               4   \n",
       "197           A75  4.0             A93      A101               4   \n",
       "198           A73  4.0             A93      A101               4   \n",
       "199           A71  3.0             A93      A101               4   \n",
       "\n",
       "    property_type   age installment_type housing_type  credits_no job_type  \\\n",
       "0            A124  54.0             A143         A153           2     A173   \n",
       "1            A121  48.0             A141         A151           2     A172   \n",
       "2            A122  24.0             A143         A152           2     A173   \n",
       "3            A123  35.0             A143         A152           2     A173   \n",
       "4            A121  24.0             A143         A151           1     A171   \n",
       "..            ...   ...              ...          ...         ...      ...   \n",
       "195          A121  31.0             A143         A152           1     A172   \n",
       "196          A122  40.0             A143         A152           1     A174   \n",
       "197          A123  38.0             A143          NaN           1     A173   \n",
       "198          A124  23.0             A143         A153           1     A173   \n",
       "199          A123  27.0             A143         A152           1     A173   \n",
       "\n",
       "     liables telephone foreigner  \n",
       "0          2      A191      A201  \n",
       "1          1      A192      A201  \n",
       "2          1      A191      A201  \n",
       "3          1      A191      A201  \n",
       "4          1      A191      A201  \n",
       "..       ...       ...       ...  \n",
       "195        1      A191      A201  \n",
       "196        1      A192      A201  \n",
       "197        1      A191      A201  \n",
       "198        1      A192      A201  \n",
       "199        1      A191      A201  \n",
       "\n",
       "[200 rows x 20 columns]"
      ]
     },
     "execution_count": 12,
     "metadata": {},
     "output_type": "execute_result"
    }
   ],
   "source": [
    "te=pd.read_csv(\"C&T test dataset.csv\")\n",
    "te"
   ]
  },
  {
   "cell_type": "code",
   "execution_count": 13,
   "metadata": {},
   "outputs": [
    {
     "data": {
      "text/plain": [
       "(200, 20)"
      ]
     },
     "execution_count": 13,
     "metadata": {},
     "output_type": "execute_result"
    }
   ],
   "source": [
    "te.shape"
   ]
  },
  {
   "cell_type": "code",
   "execution_count": 14,
   "metadata": {},
   "outputs": [
    {
     "data": {
      "text/plain": [
       "<bound method NDFrame.head of      sno acc_info  duration_month credit_history purpose savings_acc  \\\n",
       "0      1      A11               6            A34     A43         A65   \n",
       "1      2      A12              48            A32     A43         A61   \n",
       "2      3      A14              12            A34     A46         A61   \n",
       "3      4      A11              42            A32     A42         A61   \n",
       "4      5      A11              24            A33     A40         A61   \n",
       "..   ...      ...             ...            ...     ...         ...   \n",
       "795  796      A14               9            A32     A42         A62   \n",
       "796  797      A11              18            A32     A41         A65   \n",
       "797  798      A14              12            A34     A42         A61   \n",
       "798  799      A14              24            A33     A40         A65   \n",
       "799  800      A12               9            A32     A40         A65   \n",
       "\n",
       "    employment_st  poi personal_status gurantors  ...  property_type   age  \\\n",
       "0             A75  4.0             A93      A101  ...           A121  67.0   \n",
       "1             A73  2.0             A92      A101  ...           A121  22.0   \n",
       "2             A74  2.0             A93      A101  ...           A121  49.0   \n",
       "3             A74  2.0             A93      A103  ...           A122  45.0   \n",
       "4             A73  3.0             A93      A101  ...           A124  53.0   \n",
       "..            ...  ...             ...       ...  ...            ...   ...   \n",
       "795           A72  2.0             A92      A101  ...           A122  22.0   \n",
       "796           A75  1.0             A93      A101  ...           A122  51.0   \n",
       "797           A72  2.0             A92      A101  ...           A122  22.0   \n",
       "798           A75  4.0             A94      A101  ...           A123  54.0   \n",
       "799           A72  4.0             A93      A101  ...           A121  35.0   \n",
       "\n",
       "     installment_type housing_type credits_no  job_type liables  telephone  \\\n",
       "0                A143         A152          2      A173       1       A192   \n",
       "1                A143         A152          1      A173       1       A191   \n",
       "2                A143         A152          1      A172       2       A191   \n",
       "3                A143         A153          1      A173       2       A191   \n",
       "4                A143         A153          2      A173       2       A191   \n",
       "..                ...          ...        ...       ...     ...        ...   \n",
       "795              A143         A151          1      A173       1       A191   \n",
       "796              A143         A153          1      A173       2       A192   \n",
       "797              A143         A151          2      A172       1       A191   \n",
       "798              A143         A152          2      A173       1       A192   \n",
       "799              A143         A152          1      A171       1       A191   \n",
       "\n",
       "    foreigner Group_no  \n",
       "0        A201        3  \n",
       "1        A201        1  \n",
       "2        A201        2  \n",
       "3        A201        1  \n",
       "4        A201        1  \n",
       "..        ...      ...  \n",
       "795      A201        2  \n",
       "796      A201        1  \n",
       "797      A201        3  \n",
       "798      A201        3  \n",
       "799      A201        2  \n",
       "\n",
       "[761 rows x 21 columns]>"
      ]
     },
     "execution_count": 14,
     "metadata": {},
     "output_type": "execute_result"
    }
   ],
   "source": [
    "tra.head\n"
   ]
  },
  {
   "cell_type": "code",
   "execution_count": 15,
   "metadata": {},
   "outputs": [
    {
     "data": {
      "text/html": [
       "<div>\n",
       "<style scoped>\n",
       "    .dataframe tbody tr th:only-of-type {\n",
       "        vertical-align: middle;\n",
       "    }\n",
       "\n",
       "    .dataframe tbody tr th {\n",
       "        vertical-align: top;\n",
       "    }\n",
       "\n",
       "    .dataframe thead th {\n",
       "        text-align: right;\n",
       "    }\n",
       "</style>\n",
       "<table border=\"1\" class=\"dataframe\">\n",
       "  <thead>\n",
       "    <tr style=\"text-align: right;\">\n",
       "      <th></th>\n",
       "      <th>sno</th>\n",
       "      <th>acc_info</th>\n",
       "      <th>duration_month</th>\n",
       "      <th>credit_history</th>\n",
       "      <th>purpose</th>\n",
       "      <th>savings_acc</th>\n",
       "      <th>employment_st</th>\n",
       "      <th>poi</th>\n",
       "      <th>personal_status</th>\n",
       "      <th>gurantors</th>\n",
       "      <th>resident_since</th>\n",
       "      <th>property_type</th>\n",
       "      <th>age</th>\n",
       "      <th>installment_type</th>\n",
       "      <th>housing_type</th>\n",
       "      <th>credits_no</th>\n",
       "      <th>job_type</th>\n",
       "      <th>liables</th>\n",
       "      <th>telephone</th>\n",
       "      <th>foreigner</th>\n",
       "    </tr>\n",
       "  </thead>\n",
       "  <tbody>\n",
       "    <tr>\n",
       "      <th>0</th>\n",
       "      <td>1</td>\n",
       "      <td>0</td>\n",
       "      <td>6</td>\n",
       "      <td>4</td>\n",
       "      <td>4</td>\n",
       "      <td>4</td>\n",
       "      <td>4</td>\n",
       "      <td>4.0</td>\n",
       "      <td>2</td>\n",
       "      <td>0</td>\n",
       "      <td>4</td>\n",
       "      <td>0</td>\n",
       "      <td>67.0</td>\n",
       "      <td>2</td>\n",
       "      <td>1</td>\n",
       "      <td>2</td>\n",
       "      <td>2</td>\n",
       "      <td>1</td>\n",
       "      <td>1</td>\n",
       "      <td>0</td>\n",
       "    </tr>\n",
       "    <tr>\n",
       "      <th>1</th>\n",
       "      <td>2</td>\n",
       "      <td>1</td>\n",
       "      <td>48</td>\n",
       "      <td>2</td>\n",
       "      <td>4</td>\n",
       "      <td>0</td>\n",
       "      <td>2</td>\n",
       "      <td>2.0</td>\n",
       "      <td>1</td>\n",
       "      <td>0</td>\n",
       "      <td>2</td>\n",
       "      <td>0</td>\n",
       "      <td>22.0</td>\n",
       "      <td>2</td>\n",
       "      <td>1</td>\n",
       "      <td>1</td>\n",
       "      <td>2</td>\n",
       "      <td>1</td>\n",
       "      <td>0</td>\n",
       "      <td>0</td>\n",
       "    </tr>\n",
       "    <tr>\n",
       "      <th>2</th>\n",
       "      <td>3</td>\n",
       "      <td>3</td>\n",
       "      <td>12</td>\n",
       "      <td>4</td>\n",
       "      <td>7</td>\n",
       "      <td>0</td>\n",
       "      <td>3</td>\n",
       "      <td>2.0</td>\n",
       "      <td>2</td>\n",
       "      <td>0</td>\n",
       "      <td>3</td>\n",
       "      <td>0</td>\n",
       "      <td>49.0</td>\n",
       "      <td>2</td>\n",
       "      <td>1</td>\n",
       "      <td>1</td>\n",
       "      <td>1</td>\n",
       "      <td>2</td>\n",
       "      <td>0</td>\n",
       "      <td>0</td>\n",
       "    </tr>\n",
       "    <tr>\n",
       "      <th>3</th>\n",
       "      <td>4</td>\n",
       "      <td>0</td>\n",
       "      <td>42</td>\n",
       "      <td>2</td>\n",
       "      <td>3</td>\n",
       "      <td>0</td>\n",
       "      <td>3</td>\n",
       "      <td>2.0</td>\n",
       "      <td>2</td>\n",
       "      <td>2</td>\n",
       "      <td>4</td>\n",
       "      <td>1</td>\n",
       "      <td>45.0</td>\n",
       "      <td>2</td>\n",
       "      <td>2</td>\n",
       "      <td>1</td>\n",
       "      <td>2</td>\n",
       "      <td>2</td>\n",
       "      <td>0</td>\n",
       "      <td>0</td>\n",
       "    </tr>\n",
       "    <tr>\n",
       "      <th>4</th>\n",
       "      <td>5</td>\n",
       "      <td>0</td>\n",
       "      <td>24</td>\n",
       "      <td>3</td>\n",
       "      <td>0</td>\n",
       "      <td>0</td>\n",
       "      <td>2</td>\n",
       "      <td>3.0</td>\n",
       "      <td>2</td>\n",
       "      <td>0</td>\n",
       "      <td>4</td>\n",
       "      <td>3</td>\n",
       "      <td>53.0</td>\n",
       "      <td>2</td>\n",
       "      <td>2</td>\n",
       "      <td>2</td>\n",
       "      <td>2</td>\n",
       "      <td>2</td>\n",
       "      <td>0</td>\n",
       "      <td>0</td>\n",
       "    </tr>\n",
       "  </tbody>\n",
       "</table>\n",
       "</div>"
      ],
      "text/plain": [
       "   sno  acc_info  duration_month  credit_history  purpose  savings_acc  \\\n",
       "0    1         0               6               4        4            4   \n",
       "1    2         1              48               2        4            0   \n",
       "2    3         3              12               4        7            0   \n",
       "3    4         0              42               2        3            0   \n",
       "4    5         0              24               3        0            0   \n",
       "\n",
       "   employment_st  poi  personal_status  gurantors  resident_since  \\\n",
       "0              4  4.0                2          0               4   \n",
       "1              2  2.0                1          0               2   \n",
       "2              3  2.0                2          0               3   \n",
       "3              3  2.0                2          2               4   \n",
       "4              2  3.0                2          0               4   \n",
       "\n",
       "   property_type   age  installment_type  housing_type  credits_no  job_type  \\\n",
       "0              0  67.0                 2             1           2         2   \n",
       "1              0  22.0                 2             1           1         2   \n",
       "2              0  49.0                 2             1           1         1   \n",
       "3              1  45.0                 2             2           1         2   \n",
       "4              3  53.0                 2             2           2         2   \n",
       "\n",
       "   liables  telephone  foreigner  \n",
       "0        1          1          0  \n",
       "1        1          0          0  \n",
       "2        2          0          0  \n",
       "3        2          0          0  \n",
       "4        2          0          0  "
      ]
     },
     "execution_count": 15,
     "metadata": {},
     "output_type": "execute_result"
    }
   ],
   "source": [
    "# Assigning x and y features\n",
    "y = np.array(tra_copy['Group_no'])\n",
    "X_features = tra_copy.drop('Group_no', axis = 1)\n",
    "X_features.head()"
   ]
  },
  {
   "cell_type": "code",
   "execution_count": 16,
   "metadata": {},
   "outputs": [
    {
     "data": {
      "text/plain": [
       "array([3, 1, 2, 1, 1], dtype=int64)"
      ]
     },
     "execution_count": 16,
     "metadata": {},
     "output_type": "execute_result"
    }
   ],
   "source": [
    "y[:5]"
   ]
  },
  {
   "cell_type": "code",
   "execution_count": 17,
   "metadata": {},
   "outputs": [
    {
     "data": {
      "text/plain": [
       "array([[-1.73184068, -1.2682894 , -1.20374342, ..., -0.42192248,\n",
       "         1.22608706, -0.18808017],\n",
       "       [-1.7275087 , -0.4599408 ,  2.22317803, ..., -0.42192248,\n",
       "        -0.81560277, -0.18808017],\n",
       "       [-1.72317672,  1.15675641, -0.71418321, ...,  2.37010365,\n",
       "        -0.81560277, -0.18808017],\n",
       "       ...,\n",
       "       [ 1.72074603,  1.15675641, -0.71418321, ..., -0.42192248,\n",
       "        -0.81560277, -0.18808017],\n",
       "       [ 1.72507801,  1.15675641,  0.2649372 , ..., -0.42192248,\n",
       "         1.22608706, -0.18808017],\n",
       "       [ 1.72940999, -0.4599408 , -0.95896331, ..., -0.42192248,\n",
       "        -0.81560277, -0.18808017]])"
      ]
     },
     "execution_count": 17,
     "metadata": {},
     "output_type": "execute_result"
    }
   ],
   "source": [
    "# Normalizing data\n",
    "scaler =  StandardScaler()\n",
    "X = scaler.fit_transform(X_features)\n",
    "X\n"
   ]
  },
  {
   "cell_type": "code",
   "execution_count": 18,
   "metadata": {},
   "outputs": [],
   "source": [
    "trained_models=[]"
   ]
  },
  {
   "cell_type": "code",
   "execution_count": 19,
   "metadata": {},
   "outputs": [],
   "source": [
    "# Split data into training and testing sets\n",
    "X_train, X_test, y_train, y_test = train_test_split(X_features, y, test_size=0.2, random_state=42)"
   ]
  },
  {
   "cell_type": "code",
   "execution_count": 20,
   "metadata": {},
   "outputs": [],
   "source": [
    "# Split data into training and validation sets\n",
    "X_train, X_val, y_train, y_val = train_test_split(X_train, y_train, test_size=0.2, random_state=42)"
   ]
  },
  {
   "cell_type": "code",
   "execution_count": 21,
   "metadata": {},
   "outputs": [
    {
     "name": "stdout",
     "output_type": "stream",
     "text": [
      "Unique Values: [1 2 3]\n",
      "Frequency Values: [190 335 236]\n",
      "\n",
      "\n",
      "The baseline accuracy to beat is 44.021%\n"
     ]
    }
   ],
   "source": [
    "# Calculate the baseline accuracy to beat\n",
    "target_value, frequency = np.unique(y, return_counts = True)\n",
    "print(\"Unique Values:\", target_value)\n",
    "\n",
    "print(\"Frequency Values:\", frequency)\n",
    "\n",
    "# Maximum frequency value\n",
    "max_val = frequency.max()\n",
    "length_y = len(y)\n",
    "\n",
    "print('\\n')\n",
    "\n",
    "baseline_acc = round((max_val/length_y) * 100, 3)\n",
    "print(f'The baseline accuracy to beat is {baseline_acc}%')\n",
    "\n"
   ]
  },
  {
   "cell_type": "code",
   "execution_count": 22,
   "metadata": {},
   "outputs": [
    {
     "name": "stdout",
     "output_type": "stream",
     "text": [
      "With default parameters: \n",
      "Accuracy of Random forest model on training data is 100.0%\n",
      "Accuracy of Random forest model on validation data is 56.599999999999994%\n"
     ]
    }
   ],
   "source": [
    "# Train a Random forest model\n",
    "rf_model = RandomForestClassifier(random_state=42)\n",
    "rf_model.fit(X_train, y_train)\n",
    "\n",
    "# Predict target values for training data\n",
    "y_pred_train = rf_model.predict(X_train)\n",
    "rf_acc_train = round(accuracy_score(y_train, y_pred_train), 3)\n",
    "\n",
    "# Predict target values for validation data\n",
    "y_pred_val = rf_model.predict(X_val)\n",
    "rf_acc_val = round(accuracy_score(y_val, y_pred_val), 3)\n",
    "\n",
    "print('With default parameters: ')\n",
    "print(f'Accuracy of Random forest model on training data is {rf_acc_train * 100}%')\n",
    "print(f'Accuracy of Random forest model on validation data is {rf_acc_val * 100}%')\n"
   ]
  },
  {
   "cell_type": "code",
   "execution_count": 23,
   "metadata": {},
   "outputs": [],
   "source": [
    "# Using Grid search to determine best parameters\n",
    "param_grid = {\n",
    "    'n_estimators': [25, 50, 75, 100],\n",
    "    'max_features': ['sqrt', 'log2', None],\n",
    "    'max_depth': [3, 6, 9],\n",
    "    'max_leaf_nodes': [3, 6, 9],\n",
    "}\n",
    "\n",
    "grid_search = GridSearchCV(RandomForestClassifier(random_state=42),param_grid=param_grid, cv = 5)\n",
    "# Fit Grid\n",
    "grid_search.fit(X_train, y_train)\n",
    "best_rf_parameters = grid_search.best_params_\n",
    "print(f'Grid search parameters: {best_rf_parameters}')\n",
    "\n"
   ]
  },
  {
   "cell_type": "code",
   "execution_count": null,
   "metadata": {},
   "outputs": [
    {
     "name": "stdout",
     "output_type": "stream",
     "text": [
      "With Grid search best estimator parameters: \n",
      "Accuracy of Random forest model on training data is 76.7%\n",
      "Accuracy of Random forest model on validation data is 66.0%\n"
     ]
    }
   ],
   "source": [
    "# Train a Random forest model with best estimator from Grid search\n",
    "grid_rf_model = RandomForestClassifier(random_state = 42,\n",
    "                                       max_depth = best_rf_parameters['max_depth'],\n",
    "                                      max_leaf_nodes = best_rf_parameters['max_leaf_nodes'],\n",
    "                                      n_estimators = best_rf_parameters['n_estimators'],\n",
    "                                       max_features = best_rf_parameters['max_features'])\n",
    "grid_rf_model.fit(X_train, y_train)\n",
    "\n",
    "# Predict target values for training data\n",
    "y_pred_train = grid_rf_model.predict(X_train)\n",
    "rf_acc_train = round(accuracy_score(y_train, y_pred_train), 3)\n",
    "\n",
    "# Predict target values for validation data\n",
    "y_pred_val = grid_rf_model.predict(X_test)\n",
    "rf_acc_val = round(accuracy_score(y_test, y_pred_val), 3)\n",
    "\n",
    "print('With Grid search best estimator parameters: ')\n",
    "print(f'Accuracy of Random forest model on training data is {rf_acc_train * 100}%')\n",
    "print(f'Accuracy of Random forest model on validation data is {rf_acc_val * 100}%')"
   ]
  },
  {
   "cell_type": "code",
   "execution_count": null,
   "metadata": {},
   "outputs": [
    {
     "name": "stdout",
     "output_type": "stream",
     "text": [
      "Accuracy of Random forest model on test data is 66.0%\n"
     ]
    }
   ],
   "source": [
    "# Predict target values for test data using default parameters\n",
    "y_pred = grid_rf_model.predict(X_test)\n",
    "rf_acc = round(accuracy_score(y_test, y_pred), 3)\n",
    "print(f'Accuracy of Random forest model on test data is {rf_acc * 100}%')\n",
    "\n",
    "# Add to model list\n",
    "trained_models.append(grid_rf_model)"
   ]
  },
  {
   "cell_type": "code",
   "execution_count": null,
   "metadata": {},
   "outputs": [
    {
     "data": {
      "text/html": [
       "<div>\n",
       "<style scoped>\n",
       "    .dataframe tbody tr th:only-of-type {\n",
       "        vertical-align: middle;\n",
       "    }\n",
       "\n",
       "    .dataframe tbody tr th {\n",
       "        vertical-align: top;\n",
       "    }\n",
       "\n",
       "    .dataframe thead th {\n",
       "        text-align: right;\n",
       "    }\n",
       "</style>\n",
       "<table border=\"1\" class=\"dataframe\">\n",
       "  <thead>\n",
       "    <tr style=\"text-align: right;\">\n",
       "      <th></th>\n",
       "      <th>sno</th>\n",
       "      <th>acc_info</th>\n",
       "      <th>duration_month</th>\n",
       "      <th>credit_history</th>\n",
       "      <th>purpose</th>\n",
       "      <th>savings_acc</th>\n",
       "      <th>employment_st</th>\n",
       "      <th>poi</th>\n",
       "      <th>personal_status</th>\n",
       "      <th>gurantors</th>\n",
       "      <th>resident_since</th>\n",
       "      <th>property_type</th>\n",
       "      <th>age</th>\n",
       "      <th>installment_type</th>\n",
       "      <th>housing_type</th>\n",
       "      <th>credits_no</th>\n",
       "      <th>job_type</th>\n",
       "      <th>liables</th>\n",
       "      <th>telephone</th>\n",
       "      <th>foreigner</th>\n",
       "    </tr>\n",
       "  </thead>\n",
       "  <tbody>\n",
       "    <tr>\n",
       "      <th>0</th>\n",
       "      <td>1</td>\n",
       "      <td>A14</td>\n",
       "      <td>24</td>\n",
       "      <td>A34</td>\n",
       "      <td>A46</td>\n",
       "      <td>A61</td>\n",
       "      <td>A75</td>\n",
       "      <td>4.0</td>\n",
       "      <td>A93</td>\n",
       "      <td>A101</td>\n",
       "      <td>4</td>\n",
       "      <td>A124</td>\n",
       "      <td>54.0</td>\n",
       "      <td>A143</td>\n",
       "      <td>A153</td>\n",
       "      <td>2</td>\n",
       "      <td>A173</td>\n",
       "      <td>2</td>\n",
       "      <td>A191</td>\n",
       "      <td>A201</td>\n",
       "    </tr>\n",
       "    <tr>\n",
       "      <th>1</th>\n",
       "      <td>2</td>\n",
       "      <td>A12</td>\n",
       "      <td>18</td>\n",
       "      <td>A34</td>\n",
       "      <td>A43</td>\n",
       "      <td>A61</td>\n",
       "      <td>A75</td>\n",
       "      <td>3.0</td>\n",
       "      <td>A92</td>\n",
       "      <td>A103</td>\n",
       "      <td>4</td>\n",
       "      <td>A121</td>\n",
       "      <td>48.0</td>\n",
       "      <td>A141</td>\n",
       "      <td>A151</td>\n",
       "      <td>2</td>\n",
       "      <td>A172</td>\n",
       "      <td>1</td>\n",
       "      <td>A192</td>\n",
       "      <td>A201</td>\n",
       "    </tr>\n",
       "    <tr>\n",
       "      <th>2</th>\n",
       "      <td>3</td>\n",
       "      <td>A11</td>\n",
       "      <td>20</td>\n",
       "      <td>A34</td>\n",
       "      <td>A42</td>\n",
       "      <td>A61</td>\n",
       "      <td>A75</td>\n",
       "      <td>1.0</td>\n",
       "      <td>A92</td>\n",
       "      <td>A101</td>\n",
       "      <td>4</td>\n",
       "      <td>A122</td>\n",
       "      <td>24.0</td>\n",
       "      <td>A143</td>\n",
       "      <td>A152</td>\n",
       "      <td>2</td>\n",
       "      <td>A173</td>\n",
       "      <td>1</td>\n",
       "      <td>A191</td>\n",
       "      <td>A201</td>\n",
       "    </tr>\n",
       "    <tr>\n",
       "      <th>3</th>\n",
       "      <td>4</td>\n",
       "      <td>A14</td>\n",
       "      <td>12</td>\n",
       "      <td>A34</td>\n",
       "      <td>A43</td>\n",
       "      <td>A65</td>\n",
       "      <td>A75</td>\n",
       "      <td>4.0</td>\n",
       "      <td>A93</td>\n",
       "      <td>A101</td>\n",
       "      <td>4</td>\n",
       "      <td>A123</td>\n",
       "      <td>35.0</td>\n",
       "      <td>A143</td>\n",
       "      <td>A152</td>\n",
       "      <td>2</td>\n",
       "      <td>A173</td>\n",
       "      <td>1</td>\n",
       "      <td>A191</td>\n",
       "      <td>A201</td>\n",
       "    </tr>\n",
       "    <tr>\n",
       "      <th>4</th>\n",
       "      <td>5</td>\n",
       "      <td>A12</td>\n",
       "      <td>12</td>\n",
       "      <td>A32</td>\n",
       "      <td>A40</td>\n",
       "      <td>A65</td>\n",
       "      <td>A71</td>\n",
       "      <td>1.0</td>\n",
       "      <td>A92</td>\n",
       "      <td>A101</td>\n",
       "      <td>2</td>\n",
       "      <td>A121</td>\n",
       "      <td>24.0</td>\n",
       "      <td>A143</td>\n",
       "      <td>A151</td>\n",
       "      <td>1</td>\n",
       "      <td>A171</td>\n",
       "      <td>1</td>\n",
       "      <td>A191</td>\n",
       "      <td>A201</td>\n",
       "    </tr>\n",
       "    <tr>\n",
       "      <th>...</th>\n",
       "      <td>...</td>\n",
       "      <td>...</td>\n",
       "      <td>...</td>\n",
       "      <td>...</td>\n",
       "      <td>...</td>\n",
       "      <td>...</td>\n",
       "      <td>...</td>\n",
       "      <td>...</td>\n",
       "      <td>...</td>\n",
       "      <td>...</td>\n",
       "      <td>...</td>\n",
       "      <td>...</td>\n",
       "      <td>...</td>\n",
       "      <td>...</td>\n",
       "      <td>...</td>\n",
       "      <td>...</td>\n",
       "      <td>...</td>\n",
       "      <td>...</td>\n",
       "      <td>...</td>\n",
       "      <td>...</td>\n",
       "    </tr>\n",
       "    <tr>\n",
       "      <th>195</th>\n",
       "      <td>196</td>\n",
       "      <td>A14</td>\n",
       "      <td>12</td>\n",
       "      <td>A32</td>\n",
       "      <td>A42</td>\n",
       "      <td>A61</td>\n",
       "      <td>A74</td>\n",
       "      <td>3.0</td>\n",
       "      <td>A92</td>\n",
       "      <td>A101</td>\n",
       "      <td>4</td>\n",
       "      <td>A121</td>\n",
       "      <td>31.0</td>\n",
       "      <td>A143</td>\n",
       "      <td>A152</td>\n",
       "      <td>1</td>\n",
       "      <td>A172</td>\n",
       "      <td>1</td>\n",
       "      <td>A191</td>\n",
       "      <td>A201</td>\n",
       "    </tr>\n",
       "    <tr>\n",
       "      <th>196</th>\n",
       "      <td>197</td>\n",
       "      <td>A11</td>\n",
       "      <td>30</td>\n",
       "      <td>A32</td>\n",
       "      <td>A41</td>\n",
       "      <td>A61</td>\n",
       "      <td>NaN</td>\n",
       "      <td>4.0</td>\n",
       "      <td>A91</td>\n",
       "      <td>A101</td>\n",
       "      <td>4</td>\n",
       "      <td>A122</td>\n",
       "      <td>40.0</td>\n",
       "      <td>A143</td>\n",
       "      <td>A152</td>\n",
       "      <td>1</td>\n",
       "      <td>A174</td>\n",
       "      <td>1</td>\n",
       "      <td>A192</td>\n",
       "      <td>A201</td>\n",
       "    </tr>\n",
       "    <tr>\n",
       "      <th>197</th>\n",
       "      <td>198</td>\n",
       "      <td>A14</td>\n",
       "      <td>12</td>\n",
       "      <td>A32</td>\n",
       "      <td>A43</td>\n",
       "      <td>A61</td>\n",
       "      <td>A75</td>\n",
       "      <td>4.0</td>\n",
       "      <td>A93</td>\n",
       "      <td>A101</td>\n",
       "      <td>4</td>\n",
       "      <td>A123</td>\n",
       "      <td>38.0</td>\n",
       "      <td>A143</td>\n",
       "      <td>NaN</td>\n",
       "      <td>1</td>\n",
       "      <td>A173</td>\n",
       "      <td>1</td>\n",
       "      <td>A191</td>\n",
       "      <td>A201</td>\n",
       "    </tr>\n",
       "    <tr>\n",
       "      <th>198</th>\n",
       "      <td>199</td>\n",
       "      <td>A11</td>\n",
       "      <td>45</td>\n",
       "      <td>A32</td>\n",
       "      <td>A43</td>\n",
       "      <td>A61</td>\n",
       "      <td>A73</td>\n",
       "      <td>4.0</td>\n",
       "      <td>A93</td>\n",
       "      <td>A101</td>\n",
       "      <td>4</td>\n",
       "      <td>A124</td>\n",
       "      <td>23.0</td>\n",
       "      <td>A143</td>\n",
       "      <td>A153</td>\n",
       "      <td>1</td>\n",
       "      <td>A173</td>\n",
       "      <td>1</td>\n",
       "      <td>A192</td>\n",
       "      <td>A201</td>\n",
       "    </tr>\n",
       "    <tr>\n",
       "      <th>199</th>\n",
       "      <td>200</td>\n",
       "      <td>A12</td>\n",
       "      <td>45</td>\n",
       "      <td>A34</td>\n",
       "      <td>A41</td>\n",
       "      <td>A62</td>\n",
       "      <td>A71</td>\n",
       "      <td>3.0</td>\n",
       "      <td>A93</td>\n",
       "      <td>A101</td>\n",
       "      <td>4</td>\n",
       "      <td>A123</td>\n",
       "      <td>27.0</td>\n",
       "      <td>A143</td>\n",
       "      <td>A152</td>\n",
       "      <td>1</td>\n",
       "      <td>A173</td>\n",
       "      <td>1</td>\n",
       "      <td>A191</td>\n",
       "      <td>A201</td>\n",
       "    </tr>\n",
       "  </tbody>\n",
       "</table>\n",
       "<p>200 rows × 20 columns</p>\n",
       "</div>"
      ],
      "text/plain": [
       "     sno acc_info  duration_month credit_history purpose savings_acc  \\\n",
       "0      1      A14              24            A34     A46         A61   \n",
       "1      2      A12              18            A34     A43         A61   \n",
       "2      3      A11              20            A34     A42         A61   \n",
       "3      4      A14              12            A34     A43         A65   \n",
       "4      5      A12              12            A32     A40         A65   \n",
       "..   ...      ...             ...            ...     ...         ...   \n",
       "195  196      A14              12            A32     A42         A61   \n",
       "196  197      A11              30            A32     A41         A61   \n",
       "197  198      A14              12            A32     A43         A61   \n",
       "198  199      A11              45            A32     A43         A61   \n",
       "199  200      A12              45            A34     A41         A62   \n",
       "\n",
       "    employment_st  poi personal_status gurantors  resident_since  \\\n",
       "0             A75  4.0             A93      A101               4   \n",
       "1             A75  3.0             A92      A103               4   \n",
       "2             A75  1.0             A92      A101               4   \n",
       "3             A75  4.0             A93      A101               4   \n",
       "4             A71  1.0             A92      A101               2   \n",
       "..            ...  ...             ...       ...             ...   \n",
       "195           A74  3.0             A92      A101               4   \n",
       "196           NaN  4.0             A91      A101               4   \n",
       "197           A75  4.0             A93      A101               4   \n",
       "198           A73  4.0             A93      A101               4   \n",
       "199           A71  3.0             A93      A101               4   \n",
       "\n",
       "    property_type   age installment_type housing_type  credits_no job_type  \\\n",
       "0            A124  54.0             A143         A153           2     A173   \n",
       "1            A121  48.0             A141         A151           2     A172   \n",
       "2            A122  24.0             A143         A152           2     A173   \n",
       "3            A123  35.0             A143         A152           2     A173   \n",
       "4            A121  24.0             A143         A151           1     A171   \n",
       "..            ...   ...              ...          ...         ...      ...   \n",
       "195          A121  31.0             A143         A152           1     A172   \n",
       "196          A122  40.0             A143         A152           1     A174   \n",
       "197          A123  38.0             A143          NaN           1     A173   \n",
       "198          A124  23.0             A143         A153           1     A173   \n",
       "199          A123  27.0             A143         A152           1     A173   \n",
       "\n",
       "     liables telephone foreigner  \n",
       "0          2      A191      A201  \n",
       "1          1      A192      A201  \n",
       "2          1      A191      A201  \n",
       "3          1      A191      A201  \n",
       "4          1      A191      A201  \n",
       "..       ...       ...       ...  \n",
       "195        1      A191      A201  \n",
       "196        1      A192      A201  \n",
       "197        1      A191      A201  \n",
       "198        1      A192      A201  \n",
       "199        1      A191      A201  \n",
       "\n",
       "[200 rows x 20 columns]"
      ]
     },
     "execution_count": 180,
     "metadata": {},
     "output_type": "execute_result"
    }
   ],
   "source": [
    "te=pd.read_csv(\"C&T test dataset.csv\")\n",
    "te"
   ]
  },
  {
   "cell_type": "code",
   "execution_count": null,
   "metadata": {},
   "outputs": [
    {
     "data": {
      "text/plain": [
       "4"
      ]
     },
     "execution_count": 181,
     "metadata": {},
     "output_type": "execute_result"
    }
   ],
   "source": [
    "te.isnull().any().sum()"
   ]
  },
  {
   "cell_type": "code",
   "execution_count": null,
   "metadata": {},
   "outputs": [],
   "source": [
    "te.dropna(inplace=True)"
   ]
  },
  {
   "cell_type": "code",
   "execution_count": null,
   "metadata": {},
   "outputs": [
    {
     "data": {
      "text/plain": [
       "0"
      ]
     },
     "execution_count": 183,
     "metadata": {},
     "output_type": "execute_result"
    }
   ],
   "source": [
    "te.isnull().any().sum()"
   ]
  },
  {
   "cell_type": "code",
   "execution_count": null,
   "metadata": {},
   "outputs": [],
   "source": [
    "# Copy the test dataset to avoid modifying the original data\n",
    "te_copy = te.copy()\n",
    "\n",
    "# Convert categorical columns to numeric using label encoders\n",
    "for col, le in label_encoders.items():\n",
    "    if col in te_copy.columns:\n",
    "        te_copy[col] = le.transform(te_copy[col])\n",
    "\n",
    "# Drop 'Group_no' column if it's present in the test dataset\n",
    "if 'Group_no' in te_copy.columns:\n",
    "    te_copy = te_copy.drop('Group_no', axis=1)\n",
    "\n",
    "# Ensure all columns are numeric\n",
    "te_numeric = te_copy.select_dtypes(include=['number'])\n",
    "\n",
    "\n",
    "# Make predictions using the best Random Forest model\n",
    "y_pred_train_test = grid_rf_model.predict(te_numeric)\n",
    "\n",
    "\n",
    "# If you want probabilities instead of class labels\n",
    "y_pred_prob_test = rf_model.predict_proba(te_numeric)\n"
   ]
  },
  {
   "cell_type": "code",
   "execution_count": null,
   "metadata": {},
   "outputs": [
    {
     "data": {
      "text/plain": [
       "array([2, 2, 2, 2, 3, 1, 3, 3, 1, 3, 3, 1, 1, 1, 1, 2, 2, 1, 3, 3, 2, 1,\n",
       "       3, 2, 3, 2, 2, 1, 2, 3, 1, 2, 2, 3, 2, 3, 2, 2, 2, 2, 2, 2, 2, 3,\n",
       "       2, 3, 3, 2, 2, 2, 1, 3, 3, 2, 3, 3, 2, 2, 2, 3, 2, 2, 2, 2, 3, 1,\n",
       "       3, 2, 3, 2, 3, 2, 1, 1, 1, 1, 2, 2, 2, 2, 1, 1, 2, 2, 3, 1, 1, 1,\n",
       "       3, 2, 2, 2, 2, 1, 3, 2, 1, 2, 3, 2, 2, 2, 3, 2, 1, 1, 2, 2, 2, 1,\n",
       "       2, 3, 2, 3, 2, 1, 2, 3, 2, 2, 3, 3, 2, 1, 3, 2, 1, 1, 2, 3, 2, 3,\n",
       "       2, 1, 2, 2, 2, 2, 1, 2, 1, 1, 2, 2, 2, 2, 2, 2, 2, 3, 2, 2, 1, 3,\n",
       "       3, 2, 2, 1, 2, 2, 2, 2, 2, 2, 1, 2, 2, 2, 3, 1, 2, 1, 2, 2, 2, 1,\n",
       "       2, 3, 1, 1], dtype=int64)"
      ]
     },
     "execution_count": 185,
     "metadata": {},
     "output_type": "execute_result"
    }
   ],
   "source": [
    "y_pred_train_test"
   ]
  },
  {
   "cell_type": "code",
   "execution_count": null,
   "metadata": {},
   "outputs": [
    {
     "name": "stderr",
     "output_type": "stream",
     "text": [
      "  0%|          | 0/4 [00:00<?, ?it/s]"
     ]
    },
    {
     "name": "stderr",
     "output_type": "stream",
     "text": [
      "100%|██████████| 4/4 [00:14<00:00,  3.73s/it]\n"
     ]
    },
    {
     "data": {
      "text/plain": [
       "{'linear': 0.6885245901639344,\n",
       " 'poly': 0.45081967213114754,\n",
       " 'rbf': 0.45081967213114754,\n",
       " 'sigmoid': 0.3770491803278688}"
      ]
     },
     "execution_count": 186,
     "metadata": {},
     "output_type": "execute_result"
    }
   ],
   "source": [
    "# Iterating to see which kernel gives the best result\n",
    "kernels = ['linear', 'poly', 'rbf', 'sigmoid']\n",
    "score_list = {}\n",
    "scores = 0\n",
    "svm_linear = []\n",
    "\n",
    "for k in tqdm(kernels):\n",
    "    svm_model = SVC(random_state = 42, kernel= k)\n",
    "    svm_model.fit(X_train, y_train)\n",
    "    if k == 'linear':\n",
    "      svm_linear.append(svm_model)\n",
    "    f_score = svm_model.score(X_val, y_val)\n",
    "    score_list.update({k: f_score})\n",
    "\n",
    "\n",
    "score_list"
   ]
  },
  {
   "cell_type": "code",
   "execution_count": null,
   "metadata": {},
   "outputs": [],
   "source": [
    "max_val = max(score_list.values())\n",
    "list_values = list(score_list.values())\n",
    "list_keys = list(score_list.keys())\n",
    "\n",
    "# Best kernel\n",
    "k = list_keys[list_values.index(max_val)]"
   ]
  },
  {
   "cell_type": "code",
   "execution_count": null,
   "metadata": {},
   "outputs": [
    {
     "name": "stdout",
     "output_type": "stream",
     "text": [
      "Accuracy of Support vector classifier model is 64.7%\n"
     ]
    }
   ],
   "source": [
    "# Train a SVC model\n",
    "svm_model = SVC(random_state = 42, kernel = k)\n",
    "svm_model.fit(X_train, y_train)\n",
    "\n",
    "# Predict target values for test data\n",
    "y_pred = svm_model.predict(X_test)\n",
    "\n",
    "# Evaluate the model's accuracy\n",
    "svm_acc = round(accuracy_score(y_test, y_pred),3)\n",
    "print(f'Accuracy of Support vector classifier model is {svm_acc * 100}%')\n",
    "\n",
    "# Add to model list\n",
    "trained_models.append(svm_model)"
   ]
  },
  {
   "cell_type": "code",
   "execution_count": null,
   "metadata": {},
   "outputs": [
    {
     "data": {
      "image/svg+xml": [
       "<svg class=\"main-svg\" xmlns=\"http://www.w3.org/2000/svg\" xmlns:xlink=\"http://www.w3.org/1999/xlink\" width=\"800\" height=\"400\" style=\"\" viewBox=\"0 0 800 400\"><rect x=\"0\" y=\"0\" width=\"800\" height=\"400\" style=\"fill: rgb(255, 255, 255); fill-opacity: 1;\"/><defs id=\"defs-7ac706\"><g class=\"clips\"><clipPath id=\"clip7ac706xyplot\" class=\"plotclip\"><rect width=\"562\" height=\"260\"/></clipPath><clipPath class=\"axesclip\" id=\"clip7ac706x\"><rect x=\"129\" y=\"0\" width=\"562\" height=\"400\"/></clipPath><clipPath class=\"axesclip\" id=\"clip7ac706y\"><rect x=\"0\" y=\"60\" width=\"800\" height=\"260\"/></clipPath><clipPath class=\"axesclip\" id=\"clip7ac706xy\"><rect x=\"129\" y=\"60\" width=\"562\" height=\"260\"/></clipPath></g><g class=\"gradients\"><linearGradient x1=\"0\" y1=\"1\" x2=\"0\" y2=\"0\" gradientUnits=\"objectBoundingBox\" id=\"g7ac706-cbcoloraxis\"><stop offset=\"0%\" stop-color=\"rgb(13, 8, 135)\" stop-opacity=\"1\"/><stop offset=\"11.111111%\" stop-color=\"rgb(70, 3, 159)\" stop-opacity=\"1\"/><stop offset=\"22.222222%\" stop-color=\"rgb(114, 1, 168)\" stop-opacity=\"1\"/><stop offset=\"33.333333%\" stop-color=\"rgb(156, 23, 158)\" stop-opacity=\"1\"/><stop offset=\"44.444444%\" stop-color=\"rgb(189, 55, 134)\" stop-opacity=\"1\"/><stop offset=\"55.555556%\" stop-color=\"rgb(216, 87, 107)\" stop-opacity=\"1\"/><stop offset=\"66.666667%\" stop-color=\"rgb(237, 121, 83)\" stop-opacity=\"1\"/><stop offset=\"77.777778%\" stop-color=\"rgb(251, 159, 58)\" stop-opacity=\"1\"/><stop offset=\"88.888889%\" stop-color=\"rgb(253, 202, 38)\" stop-opacity=\"1\"/><stop offset=\"100%\" stop-color=\"rgb(240, 249, 33)\" stop-opacity=\"1\"/></linearGradient></g><g class=\"patterns\"/></defs><g class=\"bglayer\"><rect class=\"bg\" x=\"129\" y=\"60\" width=\"562\" height=\"260\" style=\"fill: rgb(229, 236, 246); fill-opacity: 1; stroke-width: 0;\"/></g><g class=\"layer-below\"><g class=\"imagelayer\"/><g class=\"shapelayer\"/></g><g class=\"cartesianlayer\"><g class=\"subplot xy\"><g class=\"layer-subplot\"><g class=\"shapelayer\"/><g class=\"imagelayer\"/></g><g class=\"minor-gridlayer\"><g class=\"x\"/><g class=\"y\"/></g><g class=\"gridlayer\"><g class=\"x\"><path class=\"xgrid crisp\" transform=\"translate(209.89,0)\" d=\"M0,60v260\" style=\"stroke: rgb(255, 255, 255); stroke-opacity: 1; stroke-width: 1px;\"/><path class=\"xgrid crisp\" transform=\"translate(290.78999999999996,0)\" d=\"M0,60v260\" style=\"stroke: rgb(255, 255, 255); stroke-opacity: 1; stroke-width: 1px;\"/><path class=\"xgrid crisp\" transform=\"translate(371.68,0)\" d=\"M0,60v260\" style=\"stroke: rgb(255, 255, 255); stroke-opacity: 1; stroke-width: 1px;\"/><path class=\"xgrid crisp\" transform=\"translate(452.58,0)\" d=\"M0,60v260\" style=\"stroke: rgb(255, 255, 255); stroke-opacity: 1; stroke-width: 1px;\"/><path class=\"xgrid crisp\" transform=\"translate(533.47,0)\" d=\"M0,60v260\" style=\"stroke: rgb(255, 255, 255); stroke-opacity: 1; stroke-width: 1px;\"/><path class=\"xgrid crisp\" transform=\"translate(614.36,0)\" d=\"M0,60v260\" style=\"stroke: rgb(255, 255, 255); stroke-opacity: 1; stroke-width: 1px;\"/></g><g class=\"y\"/></g><g class=\"zerolinelayer\"><path class=\"xzl zl crisp\" transform=\"translate(129,0)\" d=\"M0,60v260\" style=\"stroke: rgb(255, 255, 255); stroke-opacity: 1; stroke-width: 2px;\"/></g><g class=\"layer-between\"><g class=\"shapelayer\"/><g class=\"imagelayer\"/></g><path class=\"xlines-below\"/><path class=\"ylines-below\"/><g class=\"overlines-below\"/><g class=\"xaxislayer-below\"/><g class=\"yaxislayer-below\"/><g class=\"overaxes-below\"/><g class=\"plot\" transform=\"translate(129,60)\" clip-path=\"url(#clip7ac706xyplot)\"><g class=\"barlayer mlayer\"><g class=\"trace bars\" style=\"opacity: 1;\"><g class=\"points\"><g class=\"point\"><path d=\"M0,247V143H523.38V247Z\" style=\"vector-effect: none; opacity: 1; stroke-width: 0.5px; fill: rgb(13, 8, 135); fill-opacity: 1; stroke: rgb(229, 236, 246); stroke-opacity: 1;\"/><text class=\"bartext bartext-inside\" text-anchor=\"middle\" data-notex=\"1\" x=\"0\" y=\"0\" style=\"font-family: 'Open Sans', verdana, arial, sans-serif; font-size: 12px; fill: rgb(255, 255, 255); fill-opacity: 1; white-space: pre;\" transform=\"translate(502.5675,199.5)\">0.647</text></g><g class=\"point\"><path d=\"M0,117V13H533.9V117Z\" style=\"vector-effect: none; opacity: 1; stroke-width: 0.5px; fill: rgb(240, 249, 33); fill-opacity: 1; stroke: rgb(229, 236, 246); stroke-opacity: 1;\"/><text class=\"bartext bartext-inside\" text-anchor=\"middle\" data-notex=\"1\" x=\"0\" y=\"0\" style=\"font-family: 'Open Sans', verdana, arial, sans-serif; font-size: 12px; fill: rgb(68, 68, 68); fill-opacity: 1; white-space: pre;\" transform=\"translate(516.9,69.5)\">0.66</text></g></g></g></g></g><g class=\"overplot\"/><path class=\"xlines-above crisp\" d=\"M0,0\" style=\"fill: none;\"/><path class=\"ylines-above crisp\" d=\"M0,0\" style=\"fill: none;\"/><g class=\"overlines-above\"/><g class=\"xaxislayer-above\"><g class=\"xtick\"><text text-anchor=\"middle\" x=\"0\" y=\"333\" transform=\"translate(129,0)\" style=\"font-family: 'Open Sans', verdana, arial, sans-serif; font-size: 12px; fill: rgb(42, 63, 95); fill-opacity: 1; white-space: pre; opacity: 1;\">0</text></g><g class=\"xtick\"><text text-anchor=\"middle\" x=\"0\" y=\"333\" style=\"font-family: 'Open Sans', verdana, arial, sans-serif; font-size: 12px; fill: rgb(42, 63, 95); fill-opacity: 1; white-space: pre; opacity: 1;\" transform=\"translate(209.89,0)\">0.1</text></g><g class=\"xtick\"><text text-anchor=\"middle\" x=\"0\" y=\"333\" style=\"font-family: 'Open Sans', verdana, arial, sans-serif; font-size: 12px; fill: rgb(42, 63, 95); fill-opacity: 1; white-space: pre; opacity: 1;\" transform=\"translate(290.78999999999996,0)\">0.2</text></g><g class=\"xtick\"><text text-anchor=\"middle\" x=\"0\" y=\"333\" style=\"font-family: 'Open Sans', verdana, arial, sans-serif; font-size: 12px; fill: rgb(42, 63, 95); fill-opacity: 1; white-space: pre; opacity: 1;\" transform=\"translate(371.68,0)\">0.3</text></g><g class=\"xtick\"><text text-anchor=\"middle\" x=\"0\" y=\"333\" style=\"font-family: 'Open Sans', verdana, arial, sans-serif; font-size: 12px; fill: rgb(42, 63, 95); fill-opacity: 1; white-space: pre; opacity: 1;\" transform=\"translate(452.58,0)\">0.4</text></g><g class=\"xtick\"><text text-anchor=\"middle\" x=\"0\" y=\"333\" style=\"font-family: 'Open Sans', verdana, arial, sans-serif; font-size: 12px; fill: rgb(42, 63, 95); fill-opacity: 1; white-space: pre; opacity: 1;\" transform=\"translate(533.47,0)\">0.5</text></g><g class=\"xtick\"><text text-anchor=\"middle\" x=\"0\" y=\"333\" style=\"font-family: 'Open Sans', verdana, arial, sans-serif; font-size: 12px; fill: rgb(42, 63, 95); fill-opacity: 1; white-space: pre; opacity: 1;\" transform=\"translate(614.36,0)\">0.6</text></g></g><g class=\"yaxislayer-above\"><g class=\"ytick\"><text text-anchor=\"end\" x=\"128\" y=\"4.199999999999999\" transform=\"translate(0,255)\" style=\"font-family: 'Open Sans', verdana, arial, sans-serif; font-size: 12px; fill: rgb(42, 63, 95); fill-opacity: 1; white-space: pre; opacity: 1;\">SVC</text></g><g class=\"ytick\"><text text-anchor=\"end\" x=\"128\" y=\"4.199999999999999\" transform=\"translate(0,125)\" style=\"font-family: 'Open Sans', verdana, arial, sans-serif; font-size: 12px; fill: rgb(42, 63, 95); fill-opacity: 1; white-space: pre; opacity: 1;\">Random Forest</text></g></g><g class=\"overaxes-above\"/></g></g><g class=\"polarlayer\"/><g class=\"smithlayer\"/><g class=\"ternarylayer\"/><g class=\"geolayer\"/><g class=\"funnelarealayer\"/><g class=\"pielayer\"/><g class=\"iciclelayer\"/><g class=\"treemaplayer\"/><g class=\"sunburstlayer\"/><g class=\"glimages\"/><defs id=\"topdefs-7ac706\"><g class=\"clips\"/></defs><g class=\"layer-above\"><g class=\"imagelayer\"/><g class=\"shapelayer\"/></g><g class=\"infolayer\"><g class=\"cbcoloraxis colorbar\" transform=\"translate(129,60)\"><rect class=\"cbbg\" x=\"573\" y=\"0\" width=\"85.265625\" height=\"260\" style=\"fill: rgb(0, 0, 0); fill-opacity: 0; stroke: rgb(68, 68, 68); stroke-opacity: 1; stroke-width: 0;\"/><g class=\"cbfills\" transform=\"translate(0,32)\"><rect class=\"cbfill gradient_filled\" style=\"fill: url('#g7ac706-cbcoloraxis');\" x=\"583\" y=\"0\" width=\"30\" height=\"218\"/></g><g class=\"cblines\" transform=\"translate(0,32)\"/><g class=\"cbaxis crisp\" transform=\"translate(0,-60)\"><g class=\"ycbcoloraxistick\"><text text-anchor=\"start\" x=\"615.9\" y=\"4.199999999999999\" transform=\"translate(0,259.69)\" style=\"font-family: 'Open Sans', verdana, arial, sans-serif; font-size: 12px; fill: rgb(42, 63, 95); fill-opacity: 1; white-space: pre; opacity: 1;\">0.65</text></g><g class=\"ycbcoloraxistick\"><text text-anchor=\"start\" x=\"615.9\" y=\"4.199999999999999\" style=\"font-family: 'Open Sans', verdana, arial, sans-serif; font-size: 12px; fill: rgb(42, 63, 95); fill-opacity: 1; white-space: pre; opacity: 1;\" transform=\"translate(0,175.85)\">0.655</text></g><g class=\"ycbcoloraxistick\"><text text-anchor=\"start\" x=\"615.9\" y=\"4.199999999999999\" style=\"font-family: 'Open Sans', verdana, arial, sans-serif; font-size: 12px; fill: rgb(42, 63, 95); fill-opacity: 1; white-space: pre; opacity: 1;\" transform=\"translate(0,92)\">0.66</text></g></g><g class=\"cbtitleunshift\" transform=\"translate(-129,-60)\"><g class=\"cbtitle\" transform=\"\"><text class=\"ycbcoloraxistitle\" x=\"712.24\" y=\"83.5\" text-anchor=\"start\" style=\"font-family: 'Open Sans', verdana, arial, sans-serif; font-size: 14px; fill: rgb(42, 63, 95); opacity: 1; font-weight: normal; white-space: pre;\">color</text></g></g><rect class=\"cboutline\" x=\"583\" y=\"32\" width=\"30\" height=\"218\" style=\"stroke: rgb(68, 68, 68); stroke-opacity: 1; fill: none; stroke-width: 0;\"/></g><g class=\"g-gtitle\"><text class=\"gtitle\" x=\"40\" y=\"30\" text-anchor=\"start\" dy=\"0em\" style=\"font-family: 'Open Sans', verdana, arial, sans-serif; font-size: 17px; fill: rgb(42, 63, 95); opacity: 1; font-weight: normal; white-space: pre;\">Accuracy performance of classification models</text></g><g class=\"g-xtitle\"><text class=\"xtitle\" x=\"410\" y=\"360.3\" text-anchor=\"middle\" style=\"font-family: 'Open Sans', verdana, arial, sans-serif; font-size: 14px; fill: rgb(42, 63, 95); opacity: 1; font-weight: normal; white-space: pre;\">Accuracy</text></g><g class=\"g-ytitle\" transform=\"translate(1.0029296875,0)\"><text class=\"ytitle\" transform=\"rotate(-90,12.996875000000003,190)\" x=\"12.996875000000003\" y=\"190\" text-anchor=\"middle\" style=\"font-family: 'Open Sans', verdana, arial, sans-serif; font-size: 14px; fill: rgb(42, 63, 95); opacity: 1; font-weight: normal; white-space: pre;\">CLASSIFIER</text></g></g></svg>"
      ]
     },
     "metadata": {},
     "output_type": "display_data"
    }
   ],
   "source": [
    "# Bar plot showing each classifier\n",
    "accuracy_of_models = {'SVC': svm_acc,\n",
    "                      'Random Forest': rf_acc,\n",
    "                      }\n",
    "\n",
    "\n",
    "fig = px.bar(y = list(accuracy_of_models.keys()), x= list(accuracy_of_models.values()),\n",
    "             color = list(accuracy_of_models.values()),\n",
    "             width = 800, height = 400,\n",
    "             color_discrete_sequence=px.colors.qualitative.G10,\n",
    "             labels={'y':'CLASSIFIER', 'x':'Accuracy'}, text_auto=True)\n",
    "\n",
    "\n",
    "fig.update_layout(title='Accuracy performance of classification models', showlegend=False)\n",
    "fig.write_image('fig.svg', engine='kaleido')\n",
    "fig.show('svg')"
   ]
  },
  {
   "cell_type": "code",
   "execution_count": null,
   "metadata": {},
   "outputs": [
    {
     "data": {
      "text/plain": [
       "{'SVC': RandomForestClassifier(max_depth=9, max_leaf_nodes=9, random_state=42),\n",
       " 'Random Forest': SVC(kernel='linear', random_state=42)}"
      ]
     },
     "execution_count": 190,
     "metadata": {},
     "output_type": "execute_result"
    }
   ],
   "source": [
    "list_of_models = [ 'SVC','Random Forest']\n",
    "dictionary_models = {list_of_models[i]: trained_models[i] for i in range(len(list_of_models))}\n",
    "dictionary_models"
   ]
  },
  {
   "cell_type": "code",
   "execution_count": null,
   "metadata": {},
   "outputs": [
    {
     "data": {
      "image/png": "[encoded data removed]",
      "text/plain": [
       "<Figure size 640x480 with 2 Axes>"
      ]
     },
     "metadata": {},
     "output_type": "display_data"
    }
   ],
   "source": [
    "# Find the highest score\n",
    "scores = [svm_acc, rf_acc]\n",
    "best_score = max(scores)\n",
    "key_best_model = ''\n",
    "best_model = ''\n",
    "\n",
    "# Generate a heatmap for the classifier that has the highest score\n",
    "for key, value in accuracy_of_models.items():\n",
    "  if best_score == value:\n",
    "    key_best_model = key\n",
    "    best_model = dictionary_models[key_best_model]\n",
    "    ConfusionMatrixDisplay.from_estimator(best_model,\n",
    "                                          X_test, y_test,\n",
    "                                          display_labels=['1', '2','3'])\n",
    "    plt.title(key_best_model);\n",
    "\n",
    "    #Pop the best performing model from dictionary\n",
    "    dictionary_models.pop(key_best_model)\n"
   ]
  },
  {
   "cell_type": "code",
   "execution_count": null,
   "metadata": {},
   "outputs": [],
   "source": [
    "# create list for features\n",
    "feature = X_features.columns"
   ]
  },
  {
   "cell_type": "code",
   "execution_count": null,
   "metadata": {},
   "outputs": [],
   "source": [
    "# Random forest\n",
    "rf_importance = pd.Series(np.exp(rf_model.feature_importances_), index = feature).sort_values()\n",
    "\n",
    "# SVM linear kernel\n",
    "svm_importance = pd.Series(np.exp(svm_linear[0].coef_[0]), index = feature).sort_values()\n"
   ]
  },
  {
   "cell_type": "code",
   "execution_count": null,
   "metadata": {},
   "outputs": [
    {
     "data": {
      "image/png": "[encoded data removed]",
      "text/plain": [
       "<Figure size 1500x800 with 2 Axes>"
      ]
     },
     "metadata": {},
     "output_type": "display_data"
    }
   ],
   "source": [
    "# Create subplots\n",
    "fig, ax = plt.subplots(2, figsize=(15, 8))\n",
    "\n",
    "# Add the barplots\n",
    "rf_importance.plot(kind = 'barh', ax = ax[0], title = 'Random forest importance')\n",
    "svm_importance.plot(kind='barh', ax = ax[1], title = 'SVM importance')\n",
    "\n",
    "# Add vertical lines at x=1\n",
    "for axes_row in ax:\n",
    "    axes_row.axvline(x=1, color='black')\n",
    "plt.tight_layout()\n",
    "plt.show()\n"
   ]
  },
  {
   "cell_type": "code",
   "execution_count": null,
   "metadata": {},
   "outputs": [
    {
     "data": {
      "image/png": "[encoded data removed]",
      "text/plain": [
       "<Figure size 640x480 with 1 Axes>"
      ]
     },
     "metadata": {},
     "output_type": "display_data"
    }
   ],
   "source": [
    "from sklearn.metrics import roc_curve, auc\n",
    "import matplotlib.pyplot as plt\n",
    "from sklearn.preprocessing import label_binarize\n",
    "\n",
    "# Binarize the output\n",
    "y_test_bin = label_binarize(y_test, classes=np.unique(y_test))\n",
    "n_classes = y_test_bin.shape[1]\n",
    "\n",
    "# Convert y_pred to one-hot encoded format\n",
    "y_pred_onehot = label_binarize(y_pred, classes=np.unique(y_test))\n",
    "y_test_onehot = label_binarize(y_test, classes=np.unique(y_test))\n",
    "\n",
    "# Compute ROC curve and ROC area for each class\n",
    "fpr = dict()\n",
    "tpr = dict()\n",
    "roc_auc = dict()\n",
    "\n",
    "for i in range(n_classes):\n",
    "    fpr[i], tpr[i], _ = roc_curve(y_test_onehot[:, i], y_pred_onehot[:, i])\n",
    "    roc_auc[i] = auc(fpr[i], tpr[i])\n",
    "\n",
    "# Compute micro-average ROC curve and ROC area\n",
    "fpr[\"micro\"], tpr[\"micro\"], _ = roc_curve(y_test_onehot.ravel(), y_pred_onehot.ravel())\n",
    "roc_auc[\"micro\"] = auc(fpr[\"micro\"], tpr[\"micro\"])\n",
    "\n",
    "# Plot ROC curves\n",
    "plt.figure()\n",
    "plt.plot(fpr[\"micro\"], tpr[\"micro\"], label='micro-average ROC curve (area = {0:0.2f})'.format(roc_auc[\"micro\"]), color='deeppink', linestyle=':', linewidth=4)\n",
    "\n",
    "for i in range(n_classes):\n",
    "    plt.plot(fpr[i], tpr[i], label='ROC curve of class {0} (area = {1:0.2f})'.format(i, roc_auc[i]))\n",
    "\n",
    "plt.plot([0, 1], [0, 1], 'k--', linewidth=2)\n",
    "plt.xlim([0.0, 1.0])\n",
    "plt.ylim([0.0, 1.05])\n",
    "plt.xlabel('False Positive Rate')\n",
    "plt.ylabel('True Positive Rate')\n",
    "plt.title('ROC Curve for multi-class classification')\n",
    "plt.legend(loc=\"lower right\")\n",
    "plt.show()\n"
   ]
  },
  {
   "cell_type": "markdown",
   "metadata": {},
   "source": [
    "demo\n"
   ]
  },
  {
   "cell_type": "code",
   "execution_count": null,
   "metadata": {},
   "outputs": [],
   "source": [
    "# Load sample submission file\n",
    "sample_submission = pd.read_csv(\"C&T Bank_sample_submission.csv\")\n"
   ]
  },
  {
   "cell_type": "code",
   "execution_count": null,
   "metadata": {},
   "outputs": [],
   "source": [
    "# Make predictions on the test data\n",
    "y_pred_test = grid_rf_model.predict(te_numeric)\n"
   ]
  },
  {
   "cell_type": "code",
   "execution_count": null,
   "metadata": {},
   "outputs": [
    {
     "data": {
      "text/plain": [
       "array([2, 2, 2, 2, 3, 1, 3, 3, 1, 3, 3, 1, 1, 1, 1, 2, 2, 1, 3, 3, 2, 1,\n",
       "       3, 2, 3, 2, 2, 1, 2, 3, 1, 2, 2, 3, 2, 3, 2, 2, 2, 2, 2, 2, 2, 3,\n",
       "       2, 3, 3, 2, 2, 2, 1, 3, 3, 2, 3, 3, 2, 2, 2, 3, 2, 2, 2, 2, 3, 1,\n",
       "       3, 2, 3, 2, 3, 2, 1, 1, 1, 1, 2, 2, 2, 2, 1, 1, 2, 2, 3, 1, 1, 1,\n",
       "       3, 2, 2, 2, 2, 1, 3, 2, 1, 2, 3, 2, 2, 2, 3, 2, 1, 1, 2, 2, 2, 1,\n",
       "       2, 3, 2, 3, 2, 1, 2, 3, 2, 2, 3, 3, 2, 1, 3, 2, 1, 1, 2, 3, 2, 3,\n",
       "       2, 1, 2, 2, 2, 2, 1, 2, 1, 1, 2, 2, 2, 2, 2, 2, 2, 3, 2, 2, 1, 3,\n",
       "       3, 2, 2, 1, 2, 2, 2, 2, 2, 2, 1, 2, 2, 2, 3, 1, 2, 1, 2, 2, 2, 1,\n",
       "       2, 3, 1, 1], dtype=int64)"
      ]
     },
     "execution_count": 249,
     "metadata": {},
     "output_type": "execute_result"
    }
   ],
   "source": [
    "y_pred_test"
   ]
  },
  {
   "cell_type": "code",
   "execution_count": null,
   "metadata": {},
   "outputs": [],
   "source": []
  }
 ],
 "metadata": {
  "kernelspec": {
   "display_name": "Python 3",
   "language": "python",
   "name": "python3"
  },
  "language_info": {
   "codemirror_mode": {
    "name": "ipython",
    "version": 3
   },
   "file_extension": ".py",
   "mimetype": "text/x-python",
   "name": "python",
   "nbconvert_exporter": "python",
   "pygments_lexer": "ipython3",
   "version": "3.11.2"
  }
 },
 "nbformat": 4,
 "nbformat_minor": 2
}
